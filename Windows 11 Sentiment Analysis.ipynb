{
 "cells": [
  {
   "cell_type": "markdown",
   "metadata": {
    "cell_id": "00000-3ddf0b0e-17d7-43de-b536-9e060a8dfbd5",
    "deepnote_cell_type": "markdown",
    "id": "3faXbBzP2Des",
    "tags": []
   },
   "source": [
    "# Project Data Engineering\n",
    "\n",
    "- Aldi Fianda Putra - 195150201111034\n",
    "- Riski Darmawan - 195150200111039\n",
    "- Hasyir Daffa Ibrahim - 195150207111039"
   ]
  },
  {
   "cell_type": "markdown",
   "metadata": {
    "cell_id": "00001-e4bff0bc-554a-42c8-8cb2-3ed91e649e8f",
    "deepnote_cell_type": "markdown",
    "id": "B6yPT8Ej2DfJ",
    "tags": []
   },
   "source": [
    "**Deskripsi Project**\n",
    "\n",
    "1. Ambil Datasource (Data Primer / Data Sekunder)\n",
    "2. Lakukan Proses ETL\n",
    "> 1. Sesuaikan schema\n",
    "> 2. Lakukan data pre-processing\n",
    "> 3. Gunakan Great expectation untuk data validation\n",
    "> 4. Masukkan ke DB (mysql, sqlite3, postgre, mongodb)\n",
    "> 5. Ambil subsetdata dari DB (Datamart)\n",
    "3. Lakukan Proses Exploratory Data Analysis\n",
    "4. Lakukan proses Machine Learning\n",
    "5. (Optinoal: Nilai +) Buat Dashboard (Hasil Exploratory Data Analysis, Modeling)\n",
    "6. (Optional: Nilai +) Buat Scheduling\n",
    "7. Evaluasi Hasil"
   ]
  },
  {
   "cell_type": "markdown",
   "metadata": {
    "cell_id": "00002-f1f64538-95f8-4e93-9acf-4faef75c9e75",
    "deepnote_cell_type": "markdown",
    "id": "lngOtBA22DfM",
    "tags": []
   },
   "source": [
    "## **Topic: Windows 11**\n"
   ]
  },
  {
   "cell_type": "markdown",
   "metadata": {
    "cell_id": "00003-5e4e0bd2-68d5-4d5a-9a8d-739c59b3519a",
    "deepnote_cell_type": "markdown",
    "id": "JIatMPc82DfO",
    "tags": []
   },
   "source": [
    "# 1. Installasi dan Konfigurasi Airflow"
   ]
  },
  {
   "cell_type": "markdown",
   "metadata": {
    "cell_id": "00004-d7106133-a87a-441d-882c-1f243daa13ea",
    "deepnote_cell_type": "markdown",
    "id": "wPL3m8qb2DfP",
    "tags": []
   },
   "source": [
    "Berikut ini adalah prosedur installasi airflow sebelum masuk ke dalam pembahasan scheduling data:\n",
    "1. Pastikan menggunakan environment linux seperti Ubuntu, Arch dan lain-lain. Pada percobaan ini kami menggunakan linux dengan distro Manjaro yang merupakan turunan Arch. \n",
    "2. Install python-pip terlebih dahulu dengan menggunakan perintah sudo apt-get install python-pip, sedangkan pada perangkat kami karena menggunakan Arch-based maka menggunakan perintah sudo pacman -S python-pip ataupun yay -S python-pip\n",
    "3. Install depedensi yang dibutuhkan airflow seperti libmysqlclient-dev, libssl-dev, libkrb5-dev ataupun depedensi lainnya mengikuti error yang akan muncul nantinya.\n",
    "4. Buat database baru dengan menggunakan perintah airflow db init.\n",
    "5. Jalankan perintah airflow webserver -p 8080, kemudian jalankan juga airflow scheduler namun pada terminal yang berbeda\n",
    "6. Buat sebuah akun untuk airflow dengan urutan airflow users create [-h] -e EMAIL -f FIRSTNAME -l LASTNAME [-p PASSWORD] -r                  ROLE [--use-random-password] -u USERNAME,\n",
    "7. Buka web browser pada alamat localhost:8080, kemudian login dan apabila diperoleh tampilan UI Airflow berarti siap digunakan.\n",
    "8. Karena pada percobaan ini melakukan stream data, maka jalankan kafka dan zookeeper terlebih dahulu melalui direktori kafka"
   ]
  },
  {
   "cell_type": "markdown",
   "metadata": {
    "cell_id": "00005-b8e3240f-f62b-4079-bec9-94353e78cb51",
    "deepnote_cell_type": "markdown",
    "id": "yqTcm7JQ2DfQ",
    "tags": []
   },
   "source": [
    "## Nomor 2 sampai dengan 5 berikut tidak dijalankan melalui notebook"
   ]
  },
  {
   "cell_type": "markdown",
   "metadata": {
    "cell_id": "00006-ee59edbd-7142-4e44-be22-40fee3ad76ba",
    "deepnote_cell_type": "markdown",
    "id": "Rc7xIsVs2DfS",
    "tags": []
   },
   "source": [
    "# 2. Streaming Data"
   ]
  },
  {
   "cell_type": "code",
   "execution_count": null,
   "metadata": {
    "cell_id": "00007-832680a9-0a84-4ce3-98e0-aba989f93492",
    "deepnote_cell_type": "code",
    "deepnote_to_be_reexecuted": false,
    "execution_millis": 0,
    "execution_start": 1637675911427,
    "id": "fzxZGSsH2DfV",
    "source_hash": "56ccaa44",
    "tags": []
   },
   "outputs": [],
   "source": [
    "# import library\n",
    "import tweepy\n",
    "from kafka import KafkaProducer\n",
    "from datetime import datetime, timedelta\n",
    "import csv\n",
    "import pandas as pd\n",
    "\n",
    "consumer_key = \"Gg0FYnVBi1a9MeVR4cd7iBIHH\"\n",
    "consumer_secret = \"i3whWfXsPi5uNjAXwskSQKmZobfgezo4SmK4R8hfL6WkWZGfdM\"\n",
    "access_token = \"818938632782299136-VM0HUdQzBHdWsaWkXIfStkzSoKzRa0L\"\n",
    "access_token_secret = \"IcKhsxWvCnLVqp2iigRw4tdNVqMsxFNWkGt5kXfQKhcfH\"\n",
    "\n",
    "# setup autentikasi\n",
    "auth = tweepy.OAuthHandler(consumer_key, consumer_secret)\n",
    "auth.set_access_token(access_token, access_token_secret)\n",
    "\n",
    "# instansiasi API\n",
    "api = tweepy.API(auth, wait_on_rate_limit=True)\n",
    "\n",
    "# menyesuaikan waktu dengan waktu lokal (GMT +7 / UTC +7)\n",
    "def normalize_time(time):\n",
    "    mytime = datetime.strptime(time, \"%Y-%m-%d %H:%M:%S\")\n",
    "    mytime += timedelta(hours=7)\n",
    "    return (mytime.strftime(\"%Y-%m-%d %H:%M:%S\"))\n",
    "\n",
    "# instansiasi Kafka Producer\n",
    "producer = KafkaProducer(bootstrap_servers=['localhost:9092'], api_version=(0, 10, 1))\n",
    "\n",
    "# inisialisasi topik, kata kunci, serta batas maksimum query dan tweet\n",
    "topic_name = 'windows_11'\n",
    "search_key = \"windows 11\"\n",
    "maxId = -1\n",
    "maxTweets = 3000\n",
    "tweetCount = 0\n",
    "tweetsPerQuery = 200\n",
    "\n",
    "# deklarasi file csv\n",
    "csvFile = open(search_key+\".csv\", \"a+\", newline=\"\", encoding=\"utf-8\")\n",
    "csvWriter = csv.writer(csvFile)\n",
    "\n",
    "# deklarasi list\n",
    "tweet_id = []\n",
    "tweet_username = []\n",
    "tweet_text = []\n",
    "\n",
    "# perulangan untuk mendapatkan tweet dengna API Twitter hingga limit yang ditentukan\n",
    "while tweetCount < maxTweets:\n",
    "    # mengambil data tweet pertama kali\n",
    "    if maxId <= 0:\n",
    "        # newTweets = api.search_tweets(q=search_key, lang=\"en\", count=tweetCount, max_id=maxId)\n",
    "        newTweets = api.search_tweets(q=search_key, lang=\"id\", count=tweetCount)\n",
    "    # mengambil data tweet kedua dan seterusnya\n",
    "    newTweets = api.search_tweets(q=search_key, lang=\"id\", count=tweetsPerQuery)\n",
    "\n",
    "    # mengambil atribut tertentu dari suatu tweet\n",
    "    for i in newTweets:\n",
    "        record = str(i.user.id_str)\n",
    "        record += ';'\n",
    "        record = str(i.user.name)\n",
    "        record += ';'\n",
    "        # record += str(normalize_timestamp(str(i.created_at)))\n",
    "        # record += ';'\n",
    "        # record += str(i.full_text.encode('utf-8'))\n",
    "        record += str(i.text.encode('utf-8'))\n",
    "        record += ';'\n",
    "        print(str.encode(record))\n",
    "        producer.send(topic_name, str.encode(record))\n",
    "\n",
    "        tweet_id.append(str(i.user.id_str))\n",
    "        tweet_username.append(str(i.user.name))\n",
    "        tweet_text.append(str(i.text.encode('utf-8')))\n",
    "        tweets = [str(i.user.id_str), str(i.user.name), str(i.text.encode('utf-8'))]\n",
    "        csvWriter.writerow(tweets)\n",
    "\n",
    "    # menambah jumlah TweetCount dan MaxId\n",
    "    tweetCount += len(newTweets)\n",
    "    maxId = newTweets[-1].id\n",
    "\n",
    "# mencoba mencetak\n",
    "dictTweets = {\"id\":tweet_id, \"username\":tweet_username, \"text\":tweet_text}\n",
    "df = pd.DataFrame(dictTweets)\n",
    "# df\n"
   ]
  },
  {
   "cell_type": "markdown",
   "metadata": {
    "cell_id": "00008-34201d15-c9f1-423a-a550-9b91bb3f7c18",
    "deepnote_cell_type": "markdown",
    "id": "S7-sOhgw2Dff",
    "tags": []
   },
   "source": [
    "# 3. Extract Data"
   ]
  },
  {
   "cell_type": "code",
   "execution_count": null,
   "metadata": {
    "cell_id": "00009-99c6e478-0d66-451a-a3ba-498f5f2740cc",
    "deepnote_cell_type": "code",
    "deepnote_to_be_reexecuted": false,
    "execution_millis": 112,
    "execution_start": 1637675926623,
    "id": "ABDibohm2Dfg",
    "output_cleared": true,
    "source_hash": "3a3fab86",
    "tags": []
   },
   "outputs": [],
   "source": [
    "import pandas as pd\n",
    "kolom = ['id', 'username', 'tweet']\n",
    "#Direktori dapat disesuaikan dengan tempat path tempat file python, csv dan db disimpan\n",
    "df_windows = pd.read_csv('/home/stndb01/Documents/Data_Engineering/Proyek/windows 11.csv', names = kolom)\n",
    "df_windows\n",
    "df_windows.duplicated().value_counts()\n",
    "\n",
    "df_windows.to_csv('/home/stndb01/Documents/Data_Engineering/Proyek/windows_11_e.csv')\n"
   ]
  },
  {
   "cell_type": "markdown",
   "metadata": {
    "cell_id": "00010-b3120524-0275-41c0-9cd4-fdf4e3f35601",
    "deepnote_cell_type": "markdown",
    "id": "v7cAw6aB2Dfh",
    "tags": []
   },
   "source": [
    "# 4. Transform"
   ]
  },
  {
   "cell_type": "code",
   "execution_count": null,
   "metadata": {
    "cell_id": "00011-94de84e3-ae82-43f7-bea5-206063231431",
    "deepnote_cell_type": "code",
    "id": "e9G7Hi982Dfi",
    "tags": []
   },
   "outputs": [],
   "source": [
    "import pandas as pd\n",
    "kolom = ['id', 'username', 'tweet']\n",
    "df_windows = pd.read_csv('/home/stndb01/Documents/Data_Engineering/Proyek/windows_11_e.csv', names = kolom)\n",
    "#df_windows.duplicated().value_counts()\n",
    "\n",
    "\n",
    "df_windows.drop_duplicates(inplace=True, ignore_index=True)\n",
    "df_windows\n",
    "df_windows.to_csv('/home/stndb01/Documents/Data_Engineering/Proyek/windows_11_t.csv')"
   ]
  },
  {
   "cell_type": "markdown",
   "metadata": {
    "cell_id": "00012-867117e3-eb60-4a73-953b-681a1228372a",
    "deepnote_cell_type": "markdown",
    "id": "Xrb_1JWN2Dfj",
    "tags": []
   },
   "source": [
    "# 5. Load"
   ]
  },
  {
   "cell_type": "code",
   "execution_count": null,
   "metadata": {
    "cell_id": "00013-3be650f5-d886-4e38-b3ed-bf727e6f83e7",
    "deepnote_cell_type": "code",
    "id": "O1Q-v0EA2Dfl",
    "tags": []
   },
   "outputs": [],
   "source": [
    "import sqlite3 as s3\n",
    "import pandas as pd\n",
    "import os\n",
    "\n",
    "# membuat koneksi ke database\n",
    "conn = s3.connect('/home/stndb01/Documents/Data_Engineering/Proyek/windows11_data.db')\n",
    "\n",
    "# Object cursor untuk menjalankan perintah SQL\n",
    "cur = conn.cursor()\n",
    "\n",
    "# load dataframe ke datamart\n",
    "df_windows = pd.read_csv('/home/stndb01/Documents/Data_Engineering/Proyek/windows_11_t.csv')\n",
    "df_windows.to_sql('windows11_table',conn,if_exists='replace',index=False)\n",
    "os.remove(\"/home/stndb01/Documents/Data_Engineering/Proyek/windows_11_e.csv\")\n",
    "os.remove(\"/home/stndb01/Documents/Data_Engineering/Proyek/windows_11_t.csv\")"
   ]
  },
  {
   "cell_type": "code",
   "execution_count": null,
   "metadata": {
    "cell_id": "00014-edf72e66-9bf3-42b0-9a80-412de1d5649e",
    "deepnote_cell_type": "code",
    "id": "tgtTGClA2Dfm",
    "tags": []
   },
   "outputs": [],
   "source": [
    "query = '''select * from windows11_table'''\n",
    "pd.read_sql(query, conn)"
   ]
  },
  {
   "cell_type": "markdown",
   "metadata": {
    "cell_id": "00015-055ff309-9976-4b59-86a7-2caa0710049e",
    "deepnote_cell_type": "markdown",
    "id": "Fa2vmgid2Dfn",
    "tags": []
   },
   "source": [
    "# 6. Scheduling"
   ]
  },
  {
   "cell_type": "code",
   "execution_count": null,
   "metadata": {
    "cell_id": "00016-aa624948-4c29-45f3-997a-a7e596e29502",
    "deepnote_cell_type": "code",
    "id": "GCjn4eFu2Dfn",
    "tags": []
   },
   "outputs": [],
   "source": [
    "from datetime import timedelta\n",
    "from airflow.operators.bash import BashOperator\n",
    "from airflow.utils.dates import days_ago\n",
    "from airflow import DAG\n",
    "\n",
    "default_args = {\n",
    "    'owner': 'admin',\n",
    "    'depends_on_past': False,\n",
    "    'email': ['airflow@example.com'],\n",
    "    'email_on_failure': False,\n",
    "    'email_on_retry': False,\n",
    "    'retries': 1,\n",
    "}\n",
    "with DAG(\n",
    "    'Proyek_Akhir',\n",
    "    default_args=default_args,\n",
    "    description='Scheduling untuk task proyek akhir',\n",
    "    schedule_interval=timedelta(days=1),\n",
    "    start_date=days_ago(2),\n",
    "    tags=['proyek'],\n",
    ") as dag:\n",
    "\n",
    "    stream        = BashOperator(\n",
    "                    task_id='Stream_data_twitter',\n",
    "                    bash_command='python /home/stndb01/Documents/Data_Engineering/Proyek/stream.py'\n",
    "                    #bash_command='python stream.py',\n",
    "                    )\n",
    "\n",
    "    extract        = BashOperator(\n",
    "                    task_id='Extract_data_twitter',\n",
    "                    bash_command='python /home/stndb01/Documents/Data_Engineering/Proyek/extract.py'\n",
    "                    #bash_command='python extract.py',\n",
    "                    )\n",
    "\n",
    "    transform        = BashOperator(\n",
    "                    task_id='Transform_data_twitter',\n",
    "                    bash_command='python /home/stndb01/Documents/Data_Engineering/Proyek/transform.py'\n",
    "                    #bash_command='python transform.py',\n",
    "                    )\n",
    "\n",
    "    load        = BashOperator(\n",
    "                    task_id='Load_data_twitter',\n",
    "                    bash_command='python /home/stndb01/Documents/Data_Engineering/Proyek/load.py'\n",
    "                    #bash_command='python load.py',\n",
    "                    )\n",
    "\n",
    "    stream.set_downstream(extract)\n",
    "    extract.set_downstream(transform)\n",
    "    transform.set_downstream(load)\n",
    "\n",
    "\n"
   ]
  },
  {
   "cell_type": "code",
   "execution_count": null,
   "metadata": {
    "cell_id": "00017-3dcabfcb-b609-44c7-879a-c812f8f0f05c",
    "deepnote_cell_type": "code",
    "deepnote_to_be_reexecuted": false,
    "execution_millis": 425,
    "execution_start": 1639232533710,
    "id": "ty1NCXOM2Dfq",
    "outputId": "8425c981-5a5b-4daf-b793-c1d4e9a5f207",
    "output_cleared": false,
    "source_hash": "d8d96f82",
    "tags": []
   },
   "outputs": [
    {
     "data": {
      "application/vnd.deepnote.dataframe.v2+json": {
       "column_count": 3,
       "columns": [
        {
         "dtype": "int64",
         "name": "id",
         "stats": {
          "histogram": [
           {
            "bin_end": 144108029391343920,
            "bin_start": 60951089,
            "count": 4
           },
           {
            "bin_end": 288216058721736770,
            "bin_start": 144108029391343920,
            "count": 0
           },
           {
            "bin_end": 432324088052129600,
            "bin_start": 288216058721736770,
            "count": 0
           },
           {
            "bin_end": 576432117382522430,
            "bin_start": 432324088052129600,
            "count": 0
           },
           {
            "bin_end": 720540146712915200,
            "bin_start": 576432117382522430,
            "count": 0
           },
           {
            "bin_end": 864648176043308000,
            "bin_start": 720540146712915200,
            "count": 1
           },
           {
            "bin_end": 1008756205373700900,
            "bin_start": 864648176043308000,
            "count": 1
           },
           {
            "bin_end": 1152864234704093700,
            "bin_start": 1008756205373700900,
            "count": 2
           },
           {
            "bin_end": 1296972264034486500,
            "bin_start": 1152864234704093700,
            "count": 0
           },
           {
            "bin_end": 1441080293364879400,
            "bin_start": 1296972264034486500,
            "count": 2
           }
          ],
          "max": "1441080293364879375",
          "min": "60951089",
          "nan_count": 0,
          "unique_count": 10
         }
        },
        {
         "dtype": "object",
         "name": "username",
         "stats": {
          "categories": [
           {
            "count": 1,
            "name": "桜木李杏🌸🍲🦊C99_1日目「メ36a」委託/2日目「に35a」"
           },
           {
            "count": 1,
            "name": "theolreverendsburner"
           },
           {
            "count": 8,
            "name": "8 others"
           }
          ],
          "nan_count": 0,
          "unique_count": 10
         }
        },
        {
         "dtype": "object",
         "name": "tweet",
         "stats": {
          "categories": [
           {
            "count": 1,
            "name": "b\"RT @lockheimer: We're bringing Play Games to Windows 10 and 11! Pretty excited to partner with so many game developers so that you can seam\\xe2\\x80\\xa6\""
           },
           {
            "count": 1,
            "name": "b'@Macauley_Tonna @Halo My 2 cents: do a clean Windows 11 installation and just install your chipset and GPU drivers.'"
           },
           {
            "count": 8,
            "name": "8 others"
           }
          ],
          "nan_count": 0,
          "unique_count": 10
         }
        },
        {
         "dtype": "int64",
         "name": "_deepnote_index_column"
        }
       ],
       "row_count": 10,
       "rows_bottom": null,
       "rows_top": [
        {
         "_deepnote_index_column": 0,
         "id": 60951089,
         "tweet": "b\"RT @lockheimer: We're bringing Play Games to Windows 10 and 11! Pretty excited to partner with so…",
         "username": "桜木李杏🌸🍲🦊C99_1日目「メ36a」委託/2日目「に35a」"
        },
        {
         "_deepnote_index_column": 1,
         "id": 1408009628764586000,
         "tweet": "b'@Macauley_Tonna @Halo My 2 cents: do a clean Windows 11 installation and just install your chipse…",
         "username": "theolreverendsburner"
        },
        {
         "_deepnote_index_column": 2,
         "id": 1082920971114332200,
         "tweet": "b'*PRODUCT*\\n\\nThe Lenovo notebook Laptops with NEW windows 11 are now available on the Ricoh eShop…",
         "username": "Ricoh eShop UK"
        },
        {
         "_deepnote_index_column": 3,
         "id": 2198733733,
         "tweet": "b'After Dark Gray Theme For Windows 11 - \\nGet it here: https://t.co/ERekOx4wrP \\n#FreeFire #Window…",
         "username": "Cleodesktop"
        },
        {
         "_deepnote_index_column": 4,
         "id": 1052557647856189400,
         "tweet": "b\"Should I upgrade to Windows 11? I'm angsty about this.\"",
         "username": "Beyte Fyr"
        },
        {
         "_deepnote_index_column": 5,
         "id": 741271705419681800,
         "tweet": "b'Pantone Color of the Year 2022 theme for Windows\\xc2\\xa011 https://t.co/rEz9cUHkiN'",
         "username": "Pureinfotech (feed)"
        },
        {
         "_deepnote_index_column": 6,
         "id": 153375516,
         "tweet": "b'RT @CRecyclers: *LIMITED AVAILABILITY* \\nWindows 11 Ready Laptops! \\nOrder now for Christmas Deli…",
         "username": "Marcus Griffiths"
        },
        {
         "_deepnote_index_column": 7,
         "id": 1005087587923419100,
         "tweet": "b'As the availability of new PC processors and new-generation Windows 11 will drive a replacement b…",
         "username": "いまおか"
        },
        {
         "_deepnote_index_column": 8,
         "id": 1441080293364879400,
         "tweet": "b'Arggggg\\xf0\\x9f\\x98\\xa1.......Everything in windows 11 is getting clicked twice. Everyone facing …",
         "username": "Vinay Kishore"
        },
        {
         "_deepnote_index_column": 9,
         "id": 3064146644,
         "tweet": "b'RT @MicrosoftHelps: It might not come with a bow \\xf0\\x9f\\x8e\\x80 on top, but your PC will love t…",
         "username": "SATYAJIT GHOSH "
        }
       ]
      },
      "text/html": [
       "<div>\n",
       "<style scoped>\n",
       "    .dataframe tbody tr th:only-of-type {\n",
       "        vertical-align: middle;\n",
       "    }\n",
       "\n",
       "    .dataframe tbody tr th {\n",
       "        vertical-align: top;\n",
       "    }\n",
       "\n",
       "    .dataframe thead th {\n",
       "        text-align: right;\n",
       "    }\n",
       "</style>\n",
       "<table border=\"1\" class=\"dataframe\">\n",
       "  <thead>\n",
       "    <tr style=\"text-align: right;\">\n",
       "      <th></th>\n",
       "      <th>id</th>\n",
       "      <th>username</th>\n",
       "      <th>tweet</th>\n",
       "    </tr>\n",
       "  </thead>\n",
       "  <tbody>\n",
       "    <tr>\n",
       "      <th>0</th>\n",
       "      <td>60951089</td>\n",
       "      <td>桜木李杏🌸🍲🦊C99_1日目「メ36a」委託/2日目「に35a」</td>\n",
       "      <td>b\"RT @lockheimer: We're bringing Play Games to...</td>\n",
       "    </tr>\n",
       "    <tr>\n",
       "      <th>1</th>\n",
       "      <td>1408009628764585984</td>\n",
       "      <td>theolreverendsburner</td>\n",
       "      <td>b'@Macauley_Tonna @Halo My 2 cents: do a clean...</td>\n",
       "    </tr>\n",
       "    <tr>\n",
       "      <th>2</th>\n",
       "      <td>1082920971114332160</td>\n",
       "      <td>Ricoh eShop UK</td>\n",
       "      <td>b'*PRODUCT*\\n\\nThe Lenovo notebook Laptops wit...</td>\n",
       "    </tr>\n",
       "    <tr>\n",
       "      <th>3</th>\n",
       "      <td>2198733733</td>\n",
       "      <td>Cleodesktop</td>\n",
       "      <td>b'After Dark Gray Theme For Windows 11 - \\nGet...</td>\n",
       "    </tr>\n",
       "    <tr>\n",
       "      <th>4</th>\n",
       "      <td>1052557647856189441</td>\n",
       "      <td>Beyte Fyr</td>\n",
       "      <td>b\"Should I upgrade to Windows 11? I'm angsty a...</td>\n",
       "    </tr>\n",
       "    <tr>\n",
       "      <th>5</th>\n",
       "      <td>741271705419681792</td>\n",
       "      <td>Pureinfotech (feed)</td>\n",
       "      <td>b'Pantone Color of the Year 2022 theme for Win...</td>\n",
       "    </tr>\n",
       "    <tr>\n",
       "      <th>6</th>\n",
       "      <td>153375516</td>\n",
       "      <td>Marcus Griffiths</td>\n",
       "      <td>b'RT @CRecyclers: *LIMITED AVAILABILITY* \\nWin...</td>\n",
       "    </tr>\n",
       "    <tr>\n",
       "      <th>7</th>\n",
       "      <td>1005087587923419137</td>\n",
       "      <td>いまおか</td>\n",
       "      <td>b'As the availability of new PC processors and...</td>\n",
       "    </tr>\n",
       "    <tr>\n",
       "      <th>8</th>\n",
       "      <td>1441080293364879375</td>\n",
       "      <td>Vinay Kishore</td>\n",
       "      <td>b'Arggggg\\xf0\\x9f\\x98\\xa1.......Everything in ...</td>\n",
       "    </tr>\n",
       "    <tr>\n",
       "      <th>9</th>\n",
       "      <td>3064146644</td>\n",
       "      <td>SATYAJIT GHOSH </td>\n",
       "      <td>b'RT @MicrosoftHelps: It might not come with a...</td>\n",
       "    </tr>\n",
       "  </tbody>\n",
       "</table>\n",
       "</div>"
      ],
      "text/plain": [
       "                    id                          username  \\\n",
       "0             60951089  桜木李杏🌸🍲🦊C99_1日目「メ36a」委託/2日目「に35a」   \n",
       "1  1408009628764585984              theolreverendsburner   \n",
       "2  1082920971114332160                    Ricoh eShop UK   \n",
       "3           2198733733                       Cleodesktop   \n",
       "4  1052557647856189441                         Beyte Fyr   \n",
       "5   741271705419681792               Pureinfotech (feed)   \n",
       "6            153375516                  Marcus Griffiths   \n",
       "7  1005087587923419137                              いまおか   \n",
       "8  1441080293364879375                     Vinay Kishore   \n",
       "9           3064146644                  SATYAJIT GHOSH    \n",
       "\n",
       "                                               tweet  \n",
       "0  b\"RT @lockheimer: We're bringing Play Games to...  \n",
       "1  b'@Macauley_Tonna @Halo My 2 cents: do a clean...  \n",
       "2  b'*PRODUCT*\\n\\nThe Lenovo notebook Laptops wit...  \n",
       "3  b'After Dark Gray Theme For Windows 11 - \\nGet...  \n",
       "4  b\"Should I upgrade to Windows 11? I'm angsty a...  \n",
       "5  b'Pantone Color of the Year 2022 theme for Win...  \n",
       "6  b'RT @CRecyclers: *LIMITED AVAILABILITY* \\nWin...  \n",
       "7  b'As the availability of new PC processors and...  \n",
       "8  b'Arggggg\\xf0\\x9f\\x98\\xa1.......Everything in ...  \n",
       "9  b'RT @MicrosoftHelps: It might not come with a...  "
      ]
     },
     "execution_count": 1,
     "metadata": {},
     "output_type": "execute_result"
    }
   ],
   "source": [
    "import sqlite3 as s3\n",
    "import pandas as pd\n",
    "import os\n",
    "\n",
    "# membuat koneksi ke database\n",
    "conn = s3.connect('windows11_data.db')\n",
    "\n",
    "# Object cursor untuk menjalankan perintah SQL\n",
    "cur = conn.cursor()\n",
    "query = '''select * from windows11_table limit 10'''\n",
    "pd.read_sql(query, conn)"
   ]
  },
  {
   "cell_type": "markdown",
   "metadata": {
    "cell_id": "00019-3306643f-2e59-4de5-a285-22d53a049d95",
    "deepnote_cell_type": "markdown",
    "id": "vMnVwjYU2Dfv",
    "tags": []
   },
   "source": [
    "# 7. Machine Learning - Sentiment Analysis"
   ]
  },
  {
   "cell_type": "markdown",
   "metadata": {
    "cell_id": "00019-2d6eaa3d-dd5a-49cf-8073-fbc09de46024",
    "deepnote_cell_type": "markdown",
    "id": "xCguNGoX2Dfv",
    "tags": []
   },
   "source": [
    "## 7.1. Read Data"
   ]
  },
  {
   "cell_type": "code",
   "execution_count": null,
   "metadata": {
    "cell_id": "00021-633eccb7-d4b8-43fa-9ba0-ab628c995ddb",
    "deepnote_cell_type": "code",
    "deepnote_to_be_reexecuted": false,
    "execution_millis": 0,
    "execution_start": 1639232534131,
    "id": "9Qxsly1K2Dfx",
    "source_hash": "f705a2f3",
    "tags": []
   },
   "outputs": [],
   "source": [
    "# konstanta topik\n",
    "TOPIC = \"Windows 11\""
   ]
  },
  {
   "cell_type": "code",
   "execution_count": null,
   "metadata": {
    "cell_id": "00022-58b7425c-b4db-4cb5-a31c-0ee2ea525d48",
    "deepnote_cell_type": "code",
    "deepnote_to_be_reexecuted": false,
    "execution_millis": 1491,
    "execution_start": 1639232534133,
    "id": "hDFbBkHU2Dfx",
    "source_hash": "a8de28a",
    "tags": []
   },
   "outputs": [],
   "source": [
    "import pandas as pd\n",
    "import numpy as np\n",
    "import matplotlib.pyplot as plt\n",
    "import seaborn as sns\n",
    "\n",
    "import sqlite3 as s3\n",
    "\n",
    "import re\n",
    "import codecs"
   ]
  },
  {
   "cell_type": "code",
   "execution_count": null,
   "metadata": {
    "cell_id": "00019-b69567e4-21fb-4efc-bf1f-50ff0b59ef50",
    "deepnote_cell_type": "code",
    "deepnote_to_be_reexecuted": false,
    "execution_millis": 22,
    "execution_start": 1639232535624,
    "id": "zpQfpzL82Dfy",
    "outputId": "d0374b6e-8332-4578-d466-fad8cce9df9d",
    "source_hash": "c1d0324d",
    "tags": []
   },
   "outputs": [
    {
     "data": {
      "application/vnd.deepnote.dataframe.v2+json": {
       "column_count": 3,
       "columns": [
        {
         "dtype": "int64",
         "name": "id",
         "stats": {
          "histogram": [
           {
            "bin_end": 146931759144609180,
            "bin_start": 63043,
            "count": 60
           },
           {
            "bin_end": 293863518289155300,
            "bin_start": 146931759144609180,
            "count": 0
           },
           {
            "bin_end": 440795277433701440,
            "bin_start": 293863518289155300,
            "count": 0
           },
           {
            "bin_end": 587727036578247700,
            "bin_start": 440795277433701440,
            "count": 0
           },
           {
            "bin_end": 734658795722793900,
            "bin_start": 587727036578247700,
            "count": 3
           },
           {
            "bin_end": 881590554867339900,
            "bin_start": 734658795722793900,
            "count": 6
           },
           {
            "bin_end": 1028522314011886100,
            "bin_start": 881590554867339900,
            "count": 8
           },
           {
            "bin_end": 1175454073156432100,
            "bin_start": 1028522314011886100,
            "count": 8
           },
           {
            "bin_end": 1322385832300978200,
            "bin_start": 1175454073156432100,
            "count": 11
           },
           {
            "bin_end": 1469317591445524500,
            "bin_start": 1322385832300978200,
            "count": 9
           }
          ],
          "max": "1469317591445524490",
          "min": "63043",
          "nan_count": 0,
          "unique_count": 94
         }
        },
        {
         "dtype": "object",
         "name": "username",
         "stats": {
          "categories": [
           {
            "count": 8,
            "name": "SATYAJIT GHOSH "
           },
           {
            "count": 2,
            "name": "Prof. Lee Stott"
           },
           {
            "count": 95,
            "name": "92 others"
           }
          ],
          "nan_count": 0,
          "unique_count": 94
         }
        },
        {
         "dtype": "object",
         "name": "tweet",
         "stats": {
          "categories": [
           {
            "count": 4,
            "name": "b'RT @gsmarena_com: Google Play Store games coming to Windows 10 and 11 next year https://t.co/DdXfOPK7Wo https://t.co/y0z497XVQS'"
           },
           {
            "count": 3,
            "name": "b\"RT @lockheimer: We're bringing Play Games to Windows 10 and 11! Pretty excited to partner with so many game developers so that you can seam\\xe2\\x80\\xa6\""
           },
           {
            "count": 98,
            "name": "92 others"
           }
          ],
          "nan_count": 0,
          "unique_count": 94
         }
        },
        {
         "dtype": "int64",
         "name": "_deepnote_index_column"
        }
       ],
       "row_count": 105,
       "rows_bottom": null,
       "rows_top": [
        {
         "_deepnote_index_column": 0,
         "id": 60951089,
         "tweet": "b\"RT @lockheimer: We're bringing Play Games to Windows 10 and 11! Pretty excited to partner with so…",
         "username": "桜木李杏🌸🍲🦊C99_1日目「メ36a」委託/2日目「に35a」"
        },
        {
         "_deepnote_index_column": 1,
         "id": 1408009628764586000,
         "tweet": "b'@Macauley_Tonna @Halo My 2 cents: do a clean Windows 11 installation and just install your chipse…",
         "username": "theolreverendsburner"
        },
        {
         "_deepnote_index_column": 2,
         "id": 1082920971114332200,
         "tweet": "b'*PRODUCT*\\n\\nThe Lenovo notebook Laptops with NEW windows 11 are now available on the Ricoh eShop…",
         "username": "Ricoh eShop UK"
        },
        {
         "_deepnote_index_column": 3,
         "id": 2198733733,
         "tweet": "b'After Dark Gray Theme For Windows 11 - \\nGet it here: https://t.co/ERekOx4wrP \\n#FreeFire #Window…",
         "username": "Cleodesktop"
        },
        {
         "_deepnote_index_column": 4,
         "id": 1052557647856189400,
         "tweet": "b\"Should I upgrade to Windows 11? I'm angsty about this.\"",
         "username": "Beyte Fyr"
        },
        {
         "_deepnote_index_column": 5,
         "id": 741271705419681800,
         "tweet": "b'Pantone Color of the Year 2022 theme for Windows\\xc2\\xa011 https://t.co/rEz9cUHkiN'",
         "username": "Pureinfotech (feed)"
        },
        {
         "_deepnote_index_column": 6,
         "id": 153375516,
         "tweet": "b'RT @CRecyclers: *LIMITED AVAILABILITY* \\nWindows 11 Ready Laptops! \\nOrder now for Christmas Deli…",
         "username": "Marcus Griffiths"
        },
        {
         "_deepnote_index_column": 7,
         "id": 1005087587923419100,
         "tweet": "b'As the availability of new PC processors and new-generation Windows 11 will drive a replacement b…",
         "username": "いまおか"
        },
        {
         "_deepnote_index_column": 8,
         "id": 1441080293364879400,
         "tweet": "b'Arggggg\\xf0\\x9f\\x98\\xa1.......Everything in windows 11 is getting clicked twice. Everyone facing …",
         "username": "Vinay Kishore"
        },
        {
         "_deepnote_index_column": 9,
         "id": 3064146644,
         "tweet": "b'RT @MicrosoftHelps: It might not come with a bow \\xf0\\x9f\\x8e\\x80 on top, but your PC will love t…",
         "username": "SATYAJIT GHOSH "
        },
        {
         "_deepnote_index_column": 10,
         "id": 20961162,
         "tweet": "b'The 10 Worst Things About Windows 11 | PCMag https://t.co/uJpdXDr0jv'",
         "username": "Sam Bowne"
        },
        {
         "_deepnote_index_column": 11,
         "id": 1384072455929565200,
         "tweet": "b'RT @MicrosoftHelps: It might not come with a bow \\xf0\\x9f\\x8e\\x80 on top, but your PC will love t…",
         "username": "Danielle Matos"
        },
        {
         "_deepnote_index_column": 12,
         "id": 1292947390215778300,
         "tweet": "b'@OctoberrK is windows 11 bearable and like Functional'",
         "username": "Vandal ❄️"
        },
        {
         "_deepnote_index_column": 13,
         "id": 215833298,
         "tweet": "b'Windows 11 on Intel Core 7th gen. https://t.co/mXcHZyqiWN'",
         "username": "Danlie"
        },
        {
         "_deepnote_index_column": 14,
         "id": 760478434095226900,
         "tweet": "b'Windows 11 is getting one of Windows 10\\xe2\\x80\\x99s most divisive features https://t.co/fSEgIqBr…",
         "username": "william mcnellis"
        },
        {
         "_deepnote_index_column": 15,
         "id": 95925831,
         "tweet": "b'Windows 11 and Xbox are calling my name in 2022.'",
         "username": "Michael Brown"
        },
        {
         "_deepnote_index_column": 16,
         "id": 1168656219474747400,
         "tweet": "b'Android 11 is BETTER than windows?'",
         "username": "LTT Markov"
        },
        {
         "_deepnote_index_column": 17,
         "id": 109082290,
         "tweet": "b'Top 7 Ways to Fix Firefox Not Responding on Windows 10 and Windows 11 | #firefox | #chrome |\\xc2\\…",
         "username": "National Cyber Security"
        },
        {
         "_deepnote_index_column": 18,
         "id": 194297917,
         "tweet": "b'Top 7 Ways to Fix Firefox Not Responding on Windows 10 and Windows 11 | #firefox | #chrome |\\xc2\\…",
         "username": "Gregory D. Evans"
        },
        {
         "_deepnote_index_column": 19,
         "id": 1239549226025193500,
         "tweet": "b\"Windows 11 is the worst so far, it has unbelievably bugs, slowness, and critical issues \\nI'm rei…",
         "username": "Mahmoud👨🏻‍💻"
        },
        {
         "_deepnote_index_column": 20,
         "id": 546063993,
         "tweet": "b'How to Make Your Chrome Browser Look Like Windows 11 https://t.co/r4dQIyxgtH https://t.co/neUs29h…",
         "username": "First Column - IT"
        },
        {
         "_deepnote_index_column": 21,
         "id": 3064146644,
         "tweet": "b\"RT @JD__Online: @Microsoft I just like Bloomberry. It's different, it tastes good, like @Windows …",
         "username": "SATYAJIT GHOSH "
        },
        {
         "_deepnote_index_column": 22,
         "id": 1021740965407600600,
         "tweet": "b\"@Microsoft I just like Bloomberry. It's different, it tastes good, like @Windows 11.\"",
         "username": "JD is studying"
        },
        {
         "_deepnote_index_column": 23,
         "id": 620295058,
         "tweet": "b'\\xe2\\x9c\\xa8Top 7 Ways to Fix Firefox Not Responding on Windows 10 and Windows 11\\n\\n\\xf0\\x9f\\x94…",
         "username": "Ezefidelity"
        },
        {
         "_deepnote_index_column": 24,
         "id": 92008385,
         "tweet": "b'RT @mspoweruser: Google is bringing Google Play Games to Windows (and you wont need Windows 11) -…",
         "username": "Prof. Lee Stott"
        },
        {
         "_deepnote_index_column": 25,
         "id": 3064146644,
         "tweet": "b'RT @XbaseTech: Good news! Microsoft is accelerating the Windows 11 rollout for eligible devices. …",
         "username": "SATYAJIT GHOSH "
        },
        {
         "_deepnote_index_column": 26,
         "id": 92008385,
         "tweet": "b'RT @tomwarren: Microsoft is adding a video encoding feature directly into DirectX 12 on Windows 1…",
         "username": "Prof. Lee Stott"
        },
        {
         "_deepnote_index_column": 27,
         "id": 1264655569,
         "tweet": "b'Good news! Microsoft is accelerating the Windows 11 rollout for eligible devices.  https://t.co/m…",
         "username": "XBASE Technologies"
        },
        {
         "_deepnote_index_column": 28,
         "id": 63043,
         "tweet": "b'How to Stop Automatic Updates on Windows 11 https://t.co/7PBtabxl6b'",
         "username": "MUO"
        },
        {
         "_deepnote_index_column": 29,
         "id": 4026513973,
         "tweet": "b'Be careful if you upgrade to Windows 11 and then change your mind\\xe2\\x80\\xa6 you only have 10 da…",
         "username": "IBITS"
        },
        {
         "_deepnote_index_column": 30,
         "id": 3064146644,
         "tweet": "b'RT @panos_panay: Microsoft has partnered with @pantone to incorporate the 2022 Color of the Year …",
         "username": "SATYAJIT GHOSH "
        },
        {
         "_deepnote_index_column": 31,
         "id": 852845856319565800,
         "tweet": "b'The Best Productivity Features You Should Use in Windows 11 https://t.co/wco55lpJ41'",
         "username": "Kevin John Banks"
        },
        {
         "_deepnote_index_column": 32,
         "id": 3303759385,
         "tweet": "b'RT @panos_panay: Microsoft has partnered with @pantone to incorporate the 2022 Color of the Year …",
         "username": "Gyana"
        },
        {
         "_deepnote_index_column": 33,
         "id": 612076511,
         "tweet": "b\"@AdityaC34266984 There's so much to love with Windows 11! Which of the new features has been stan…",
         "username": "Microsoft Surface"
        },
        {
         "_deepnote_index_column": 34,
         "id": 1229759588,
         "tweet": "b'@nusterbubbins upgraded to Windows 11 on my new laptop \\xf0\\x9f\\x98\\xac\\xf0\\x9f\\x98\\xac\\xf0\\x9f\\x…",
         "username": "Honky Tonk Chicken Man Nacho Libre 🏒😎🇨🇦"
        },
        {
         "_deepnote_index_column": 35,
         "id": 3064146644,
         "tweet": "b'RT @TrinicoCloud: Microsoft is bringing back the weather widget on the Windows 11 taskbar https:/…",
         "username": "SATYAJIT GHOSH "
        },
        {
         "_deepnote_index_column": 36,
         "id": 1381392402687090700,
         "tweet": "b'RT @mspoweruser: Google is bringing Google Play Games to Windows (and you wont need Windows 11) -…",
         "username": "Ahmed Abdel Latif"
        },
        {
         "_deepnote_index_column": 37,
         "id": 3360886175,
         "tweet": "b'Microsoft is bringing back the weather widget on the Windows 11 taskbar https://t.co/vDNDLfXZ2O'",
         "username": "Trinico Cloud"
        },
        {
         "_deepnote_index_column": 38,
         "id": 399985113,
         "tweet": "b'In the core of this insane feature is 30yrs old technology of #lernoutandhauspie | #Microsoft Goe…",
         "username": "Dimitri Lambrecht"
        },
        {
         "_deepnote_index_column": 39,
         "id": 1251493696740229000,
         "tweet": "b\"\\xf0\\x9f\\x91\\x89 Notebook HP Revolve 810 G3, 11'', Touch Intel Core i7-5600U, 2,60 GHz, 8 GB de R…",
         "username": "TecniAsistencia.es"
        },
        {
         "_deepnote_index_column": 40,
         "id": 3064146644,
         "tweet": "b\"RT @X_SOLDIER: Android 12 is like when Microsoft released Windows 8 with the Metro UI \\n\\n\\xe2\\x8…",
         "username": "SATYAJIT GHOSH "
        },
        {
         "_deepnote_index_column": 41,
         "id": 26977067,
         "tweet": "b'Google Play Store games coming to Windows 10 and 11 next year https://t.co/oWpLxkDIBX https://t.c…",
         "username": "Rose Sana"
        },
        {
         "_deepnote_index_column": 42,
         "id": 77179485,
         "tweet": "b'Even moving windows around lags on Windows 11 on a maxed out Surface Book 3'",
         "username": "Sam Afshari 🇪🇺"
        },
        {
         "_deepnote_index_column": 43,
         "id": 1341063807154745300,
         "tweet": "b\"@lilanne_lunice i've read it might be using wayland? but in any case yeah on windows 11 you can j…",
         "username": "ash/declan 📀🎵🎮"
        },
        {
         "_deepnote_index_column": 44,
         "id": 3433815723,
         "tweet": "b\"RT @WindowsLatest: Hands on with Windows 11's redesigned Notepad app with dark mode https://t.co/…",
         "username": "WiseGuys"
        },
        {
         "_deepnote_index_column": 45,
         "id": 61975633,
         "tweet": "b\"Android 12 is like when Microsoft released Windows 8 with the Metro UI \\n\\n\\xe2\\x80\\x94 It's flat…",
         "username": "Pierce Arner"
        },
        {
         "_deepnote_index_column": 46,
         "id": 1284414997599117300,
         "tweet": "b'@RyuuShuo @Microsoft Are you upgrade to Windows 11?'",
         "username": "nightplu"
        },
        {
         "_deepnote_index_column": 47,
         "id": 77179485,
         "tweet": "b'Downgraded from @Windows 11 to Windows 10. 11 is too slow, inefficient, unpolished and buggy.'",
         "username": "Sam Afshari 🇪🇺"
        },
        {
         "_deepnote_index_column": 48,
         "id": 743579496574492700,
         "tweet": "b'RT @WindowsLatest: Microsoft admits another Windows 11 bug is slowing down PCs, but a fix is comi…",
         "username": "Lorenzo D'Annunzio"
        },
        {
         "_deepnote_index_column": 49,
         "id": 2790948541,
         "tweet": "b\"Google Play Store games coming to Windows 10 and 11 next year (https://t.co/gdsm1FU5oy)\\n\\nDuring…",
         "username": "Tech Industry Briefly"
        },
        {
         "_deepnote_index_column": 50,
         "id": 968617616762916900,
         "tweet": "b'RT @joehelle: Take that Windows 11 and Defender. https://t.co/66GNrZrFt9'",
         "username": "The Bluewolf"
        },
        {
         "_deepnote_index_column": 51,
         "id": 2480152112,
         "tweet": "b'Annoyed by fix low Microphone volume issues in Windows 11? Let\\xe2\\x80\\x99s see what can be done …",
         "username": "Hawkdive"
        },
        {
         "_deepnote_index_column": 52,
         "id": 725719639175516200,
         "tweet": "b'WINDOWS 11. I ABHOR YOU.'",
         "username": "🌸 サッチ 🌸"
        },
        {
         "_deepnote_index_column": 53,
         "id": 4143203369,
         "tweet": "b'@nixcraft There was a short dip when SSDs first entered the market, but Windows 11 seems capable …",
         "username": "Karl Heinz Häsliprinz"
        },
        {
         "_deepnote_index_column": 54,
         "id": 2438099425,
         "tweet": "b'RT @carlyraejepsen: Look at this adorable Airbnb I found! So spacious and so many windows. Consid…",
         "username": "総理大臣@あんぽんたん"
        },
        {
         "_deepnote_index_column": 55,
         "id": 113231054,
         "tweet": "b'RT @gsmarena_com: Google Play Store games coming to Windows 10 and 11 next year https://t.co/DdXf…",
         "username": "J • P • M • T"
        },
        {
         "_deepnote_index_column": 56,
         "id": 726420862866346000,
         "tweet": "b'windows 11 ice cream'",
         "username": "taufiq #GrazieVale"
        },
        {
         "_deepnote_index_column": 57,
         "id": 3816550932,
         "tweet": "b'How to Make Your Chrome Browser Look Like Windows 11 https://t.co/NIeIpJmiL3 https://t.co/LO3dbwc…",
         "username": "Reciprocal Technologies"
        },
        {
         "_deepnote_index_column": 58,
         "id": 56799145,
         "tweet": "b'Of course, me being me, I\\xe2\\x80\\x99m going to try and upgrade it to Windows 11 now\\xe2\\x80\\xa6 …",
         "username": "Lonely This Chris-mas 🎅🏻"
        },
        {
         "_deepnote_index_column": 59,
         "id": 1433881,
         "tweet": "b\"Upgraded to Windows 11 yesterday. First time I've been completely meh about a Windows upgrade. Lo…",
         "username": "Zach Petersen"
        },
        {
         "_deepnote_index_column": 60,
         "id": 1142416848044068900,
         "tweet": "b'Has anyone updated to windows 11? How are  you finding it, if so?'",
         "username": "Katie, In Search of the Way"
        },
        {
         "_deepnote_index_column": 61,
         "id": 2858012136,
         "tweet": "b'Google Play Store games coming to Windows 10 and 11 next\\xc2\\xa0year https://t.co/odW98B0v09'",
         "username": "Latest Phones & Gadgets"
        },
        {
         "_deepnote_index_column": 62,
         "id": 314653455,
         "tweet": "b'RT @benjedwards: I\\xe2\\x80\\x99d love to see a Windows 3.11 PC Mini\\xe2\\x80\\x94a micro game consol…",
         "username": "xbit ops"
        },
        {
         "_deepnote_index_column": 63,
         "id": 1114995429958144000,
         "tweet": "b'can anyone help me figure out why my laptop is slow and how to fix it? ive upgraded to windows 11…",
         "username": "schwa 🦎👒"
        },
        {
         "_deepnote_index_column": 64,
         "id": 19720653,
         "tweet": "b'Android games will arrive on Windows 11 next year https://t.co/fafjFyKWpp via @anyroncopeman'",
         "username": "Tech Advisor"
        },
        {
         "_deepnote_index_column": 65,
         "id": 1312893851191959600,
         "tweet": "b'RT @annh_campos: @svetlana_denver @barbara_dear @Wanda2137 @Magda31076764 @Gaby_FMP @IanevaZoia @…",
         "username": "euge del carril"
        },
        {
         "_deepnote_index_column": 66,
         "id": 760678325685784600,
         "tweet": "b'@Model3Owners Yah \\xf0\\x9f\\x98\\xa2, there used to be one that every night at 11:30 PM on the dot …",
         "username": "Aaron Brighton"
        },
        {
         "_deepnote_index_column": 67,
         "id": 5889072,
         "tweet": "b'Don\\xe2\\x80\\x99t Miss the Double Sale at Keysfan \\xe2\\x80\\x93 Buy Office and get Windows 10/11 fo…",
         "username": "Wccftech"
        },
        {
         "_deepnote_index_column": 68,
         "id": 1166012424215883800,
         "tweet": "b'RT @backlon: Google is bringing Google Play Games to Windows. Not via the new Android in Windows …",
         "username": "Kruti"
        },
        {
         "_deepnote_index_column": 69,
         "id": 3064146644,
         "tweet": "b'RT @benjedwards: I\\xe2\\x80\\x99d love to see a Windows 3.11 PC Mini\\xe2\\x80\\x94a micro game consol…",
         "username": "SATYAJIT GHOSH "
        },
        {
         "_deepnote_index_column": 70,
         "id": 19948217,
         "tweet": "b'RT @benjedwards: I\\xe2\\x80\\x99d love to see a Windows 3.11 PC Mini\\xe2\\x80\\x94a micro game consol…",
         "username": "Benj Edwards"
        },
        {
         "_deepnote_index_column": 71,
         "id": 595292451,
         "tweet": "b'Keyboard shortcuts in Windows 11 https://t.co/afd8noVkWE'",
         "username": "Tero Alhonen"
        },
        {
         "_deepnote_index_column": 72,
         "id": 3041049114,
         "tweet": "b'How to Make Your Chrome Browser Look Like Windows 11 https://t.co/hbDlhaTcqj https://t.co/gp5GSlS…",
         "username": "Peter Kenneally"
        },
        {
         "_deepnote_index_column": 73,
         "id": 721544046653493200,
         "tweet": "b'@ocshoobie @Yeetbotman some people have reported that doesn\\xe2\\x80\\x99t work for them but that\\x…",
         "username": "RICK RIOS DOMÍNGUEZ"
        },
        {
         "_deepnote_index_column": 74,
         "id": 1304550008,
         "tweet": "b'RT @gsmarena_com: Google Play Store games coming to Windows 10 and 11 next year https://t.co/DdXf…",
         "username": "Tetsuo"
        },
        {
         "_deepnote_index_column": 75,
         "id": 1136014784569258000,
         "tweet": "b'just got Windows 11. A little weird but I kinda dig it. Wish version of Mac OS lol'",
         "username": "🌴 ʙᴀʀʙᴀᴅᴏꜱ ꜱʟɪᴍ 🌴"
        },
        {
         "_deepnote_index_column": 76,
         "id": 339762824,
         "tweet": "b'Latest #Windows11 Dev Channel Build 22518 can use MS Spotlight for desktop backgrounds. Cool! #WI…",
         "username": "Ed Tittel"
        },
        {
         "_deepnote_index_column": 77,
         "id": 2798993669,
         "tweet": "b'RT @gsmarena_com: Google Play Store games coming to Windows 10 and 11 next year https://t.co/DdXf…",
         "username": "BlackHand"
        },
        {
         "_deepnote_index_column": 78,
         "id": 1435069887366455300,
         "tweet": "b\"@IrishLitTimes Hopefully it's not run on Windows 11.\"",
         "username": "Owen Fitzgerald"
        },
        {
         "_deepnote_index_column": 79,
         "id": 1190819764127568000,
         "tweet": "b'@WindowsLatest But as I said before this came out... Windows 11 = Vista pre-SP1.  Same damn thing…",
         "username": "Lauren \"Vote blue to keep out you know who\" McCoy"
        },
        {
         "_deepnote_index_column": 80,
         "id": 209038505,
         "tweet": "b'Google will bring Android games to Windows 10 and 11 next year https://t.co/sCQGh6xzUN via @gizmo…",
         "username": "USMAN YUSUF™"
        },
        {
         "_deepnote_index_column": 81,
         "id": 1190819764127568000,
         "tweet": "b'@WindowsLatest Good.  Keep the improvements coming.  When I first installed Windows 11 ARM on my …",
         "username": "Lauren \"Vote blue to keep out you know who\" McCoy"
        },
        {
         "_deepnote_index_column": 82,
         "id": 899710030710284300,
         "tweet": "b'@zSkipper11 no te instales windows 11'",
         "username": "yo🎄 #advyout"
        },
        {
         "_deepnote_index_column": 83,
         "id": 1080116711683178500,
         "tweet": "b'RT @mspoweruser: Microsoft acknowledges slow Windows 11 NVMe SSD write speeds issue, is working o…",
         "username": "ǝWɹǝๅɐǝꓤǝɥꓕ 🍥"
        },
        {
         "_deepnote_index_column": 84,
         "id": 1251067832667828200,
         "tweet": "b'Lepi minta update windows 11 teroos, tp takoot failed ueueue'",
         "username": "bunga tidur jual iPhone cek pinned"
        },
        {
         "_deepnote_index_column": 85,
         "id": 819821216764727300,
         "tweet": "b'New #Windows11 build tests Voice Access, Spotlight backgrounds\\nby @markhachman\\nhttps://t.co/BRT…",
         "username": "Iryna.Fesenko"
        },
        {
         "_deepnote_index_column": 86,
         "id": 1013927542972211200,
         "tweet": "b'RT @LevantiniV_PhD: We explored for the first time whether parenting moderated the association be…",
         "username": "Mom Giggles"
        },
        {
         "_deepnote_index_column": 87,
         "id": 932373490849628200,
         "tweet": "b'@keedohh I came home late like 11, didn\\xe2\\x80\\x99t sleep til midnight so I bet she did come hom…",
         "username": "amy iverson"
        },
        {
         "_deepnote_index_column": 88,
         "id": 1394657618145136600,
         "tweet": "b'RT @gsmarena_com: Google Play Store games coming to Windows 10 and 11 next year https://t.co/DdXf…",
         "username": "O. Lakshmi Tanmay Teja"
        },
        {
         "_deepnote_index_column": 89,
         "id": 30092983,
         "tweet": "b'@tkinias ... and then wondering why my computer is slow, even though I have 11 different windows …",
         "username": "Zach Bigalke, ABD"
        },
        {
         "_deepnote_index_column": 90,
         "id": 56784509,
         "tweet": "b'Oof, Windows 11 BSOD https://t.co/HoofTLT9H9'",
         "username": "Mark Stockman"
        },
        {
         "_deepnote_index_column": 91,
         "id": 1468984082734452700,
         "tweet": "b\"RT @velo_tw: 150 rts and I'll make the first Windows 11 iso \\xf0\\x9f\\xa4\\x9d\"",
         "username": "Crispy"
        },
        {
         "_deepnote_index_column": 92,
         "id": 913207395500810200,
         "tweet": "b\"RT @lockheimer: We're bringing Play Games to Windows 10 and 11! Pretty excited to partner with so…",
         "username": "a1dnoah-b1ue"
        },
        {
         "_deepnote_index_column": 93,
         "id": 1893719730,
         "tweet": "b'The Best Productivity Features You Should Use in Windows\\xc2\\xa011 https://t.co/Cl2jZuCYO1'",
         "username": "todayheadline"
        },
        {
         "_deepnote_index_column": 94,
         "id": 3422367497,
         "tweet": "b'Windows 11 is apparently impacting the speed of storage drives (NVMs, SSDs, hard drive) and Micro…",
         "username": "Artificial Geek"
        },
        {
         "_deepnote_index_column": 95,
         "id": 2930156653,
         "tweet": "b'RT @hudson_chatbots: Microsoft is making Windows 11 less annoying: #DeepLearning #IoT #BigData cc…",
         "username": "Kim Muro"
        },
        {
         "_deepnote_index_column": 96,
         "id": 1227376754450477000,
         "tweet": "b'RT @NeowinFeed: Google Play is coming to Windows 10 and 11 next year as hell freezes over #Google…",
         "username": "Gideon Steward"
        },
        {
         "_deepnote_index_column": 97,
         "id": 1251493696740229000,
         "tweet": "b\"Notebook HP Revolve 810 G3, 11'', Touch Intel Core i7-5600U, 2,60 GHz, 8 GB de RAM, SSD de 240 GB…",
         "username": "TecniAsistencia.es"
        },
        {
         "_deepnote_index_column": 98,
         "id": 178250791,
         "tweet": "b'RT @WindowsLatest: Microsoft admits another Windows 11 bug is slowing down PCs, but a fix is comi…",
         "username": "Steven D"
        },
        {
         "_deepnote_index_column": 99,
         "id": 1007329123264389100,
         "tweet": "b'Windows 11 Support In Los Angeles https://t.co/hzuuJv01EZ https://t.co/bZujoirUoO'",
         "username": "Generation IX Technologies"
        },
        {
         "_deepnote_index_column": 100,
         "id": 2281129274,
         "tweet": "b'Windows 11 Features #1 Color Filters\\n#Windows11 #ColorFilters #Windows11Features https://t.co/NP…",
         "username": "Mehmet"
        },
        {
         "_deepnote_index_column": 101,
         "id": 2571317438,
         "tweet": "b\"RT @lockheimer: We're bringing Play Games to Windows 10 and 11! Pretty excited to partner with so…",
         "username": "鳥麦康人(とりむぎやすと)"
        },
        {
         "_deepnote_index_column": 102,
         "id": 1274775491006922800,
         "tweet": "b'So I had a look at windows 11 the other day and uh... Why is Microsoft trying to hard to make it …",
         "username": "Ash Collins 🏴󠁧󠁢󠁷󠁬󠁳󠁿"
        },
        {
         "_deepnote_index_column": 103,
         "id": 3064146644,
         "tweet": "b'RT @androidcodex: So I had a look at windows 11 the other day and uh... Why is Microsoft trying t…",
         "username": "SATYAJIT GHOSH "
        },
        {
         "_deepnote_index_column": 104,
         "id": 1469317591445524500,
         "tweet": "b\"When you don't wanna risk downloading windows 11 prematurely so you tinker with your windows 10 o…",
         "username": "Soumyashree Biswal"
        }
       ]
      },
      "text/html": [
       "<div>\n",
       "<style scoped>\n",
       "    .dataframe tbody tr th:only-of-type {\n",
       "        vertical-align: middle;\n",
       "    }\n",
       "\n",
       "    .dataframe tbody tr th {\n",
       "        vertical-align: top;\n",
       "    }\n",
       "\n",
       "    .dataframe thead th {\n",
       "        text-align: right;\n",
       "    }\n",
       "</style>\n",
       "<table border=\"1\" class=\"dataframe\">\n",
       "  <thead>\n",
       "    <tr style=\"text-align: right;\">\n",
       "      <th></th>\n",
       "      <th>id</th>\n",
       "      <th>username</th>\n",
       "      <th>tweet</th>\n",
       "    </tr>\n",
       "  </thead>\n",
       "  <tbody>\n",
       "    <tr>\n",
       "      <th>0</th>\n",
       "      <td>60951089</td>\n",
       "      <td>桜木李杏🌸🍲🦊C99_1日目「メ36a」委託/2日目「に35a」</td>\n",
       "      <td>b\"RT @lockheimer: We're bringing Play Games to...</td>\n",
       "    </tr>\n",
       "    <tr>\n",
       "      <th>1</th>\n",
       "      <td>1408009628764585984</td>\n",
       "      <td>theolreverendsburner</td>\n",
       "      <td>b'@Macauley_Tonna @Halo My 2 cents: do a clean...</td>\n",
       "    </tr>\n",
       "    <tr>\n",
       "      <th>2</th>\n",
       "      <td>1082920971114332160</td>\n",
       "      <td>Ricoh eShop UK</td>\n",
       "      <td>b'*PRODUCT*\\n\\nThe Lenovo notebook Laptops wit...</td>\n",
       "    </tr>\n",
       "    <tr>\n",
       "      <th>3</th>\n",
       "      <td>2198733733</td>\n",
       "      <td>Cleodesktop</td>\n",
       "      <td>b'After Dark Gray Theme For Windows 11 - \\nGet...</td>\n",
       "    </tr>\n",
       "    <tr>\n",
       "      <th>4</th>\n",
       "      <td>1052557647856189441</td>\n",
       "      <td>Beyte Fyr</td>\n",
       "      <td>b\"Should I upgrade to Windows 11? I'm angsty a...</td>\n",
       "    </tr>\n",
       "    <tr>\n",
       "      <th>...</th>\n",
       "      <td>...</td>\n",
       "      <td>...</td>\n",
       "      <td>...</td>\n",
       "    </tr>\n",
       "    <tr>\n",
       "      <th>100</th>\n",
       "      <td>2281129274</td>\n",
       "      <td>Mehmet</td>\n",
       "      <td>b'Windows 11 Features #1 Color Filters\\n#Windo...</td>\n",
       "    </tr>\n",
       "    <tr>\n",
       "      <th>101</th>\n",
       "      <td>2571317438</td>\n",
       "      <td>鳥麦康人(とりむぎやすと)</td>\n",
       "      <td>b\"RT @lockheimer: We're bringing Play Games to...</td>\n",
       "    </tr>\n",
       "    <tr>\n",
       "      <th>102</th>\n",
       "      <td>1274775491006922752</td>\n",
       "      <td>Ash Collins 🏴󠁧󠁢󠁷󠁬󠁳󠁿</td>\n",
       "      <td>b'So I had a look at windows 11 the other day ...</td>\n",
       "    </tr>\n",
       "    <tr>\n",
       "      <th>103</th>\n",
       "      <td>3064146644</td>\n",
       "      <td>SATYAJIT GHOSH </td>\n",
       "      <td>b'RT @androidcodex: So I had a look at windows...</td>\n",
       "    </tr>\n",
       "    <tr>\n",
       "      <th>104</th>\n",
       "      <td>1469317591445524490</td>\n",
       "      <td>Soumyashree Biswal</td>\n",
       "      <td>b\"When you don't wanna risk downloading window...</td>\n",
       "    </tr>\n",
       "  </tbody>\n",
       "</table>\n",
       "<p>105 rows × 3 columns</p>\n",
       "</div>"
      ],
      "text/plain": [
       "                      id                          username  \\\n",
       "0               60951089  桜木李杏🌸🍲🦊C99_1日目「メ36a」委託/2日目「に35a」   \n",
       "1    1408009628764585984              theolreverendsburner   \n",
       "2    1082920971114332160                    Ricoh eShop UK   \n",
       "3             2198733733                       Cleodesktop   \n",
       "4    1052557647856189441                         Beyte Fyr   \n",
       "..                   ...                               ...   \n",
       "100           2281129274                            Mehmet   \n",
       "101           2571317438                     鳥麦康人(とりむぎやすと)   \n",
       "102  1274775491006922752               Ash Collins 🏴󠁧󠁢󠁷󠁬󠁳󠁿   \n",
       "103           3064146644                  SATYAJIT GHOSH    \n",
       "104  1469317591445524490                Soumyashree Biswal   \n",
       "\n",
       "                                                 tweet  \n",
       "0    b\"RT @lockheimer: We're bringing Play Games to...  \n",
       "1    b'@Macauley_Tonna @Halo My 2 cents: do a clean...  \n",
       "2    b'*PRODUCT*\\n\\nThe Lenovo notebook Laptops wit...  \n",
       "3    b'After Dark Gray Theme For Windows 11 - \\nGet...  \n",
       "4    b\"Should I upgrade to Windows 11? I'm angsty a...  \n",
       "..                                                 ...  \n",
       "100  b'Windows 11 Features #1 Color Filters\\n#Windo...  \n",
       "101  b\"RT @lockheimer: We're bringing Play Games to...  \n",
       "102  b'So I had a look at windows 11 the other day ...  \n",
       "103  b'RT @androidcodex: So I had a look at windows...  \n",
       "104  b\"When you don't wanna risk downloading window...  \n",
       "\n",
       "[105 rows x 3 columns]"
      ]
     },
     "execution_count": 4,
     "metadata": {},
     "output_type": "execute_result"
    }
   ],
   "source": [
    "# membuat koneksi ke database\n",
    "conn = s3.connect('windows11_data.db')\n",
    "\n",
    "# Object cursor untuk menjalankan perintah SQL\n",
    "cur = conn.cursor()\n",
    "query = '''select * from windows11_table'''\n",
    "df = pd.read_sql(query, conn)\n",
    "df"
   ]
  },
  {
   "cell_type": "markdown",
   "metadata": {
    "cell_id": "00024-05c11e4b-0542-4d4b-b598-8193e87276ef",
    "deepnote_cell_type": "markdown",
    "id": "_69nA7zS2Dfz",
    "tags": []
   },
   "source": [
    "## 7.2. Preprocessing"
   ]
  },
  {
   "cell_type": "markdown",
   "metadata": {
    "cell_id": "00028-1c5abebc-10a9-46d7-8720-d6a7361f022f",
    "deepnote_cell_type": "markdown",
    "id": "Ks2nNAZ82Df1",
    "tags": []
   },
   "source": [
    "### 7.2.1. Cleaning Text Data"
   ]
  },
  {
   "cell_type": "code",
   "execution_count": null,
   "metadata": {
    "cell_id": "00029-337584c7-920c-4914-8440-cd96b2862720",
    "deepnote_cell_type": "code",
    "deepnote_to_be_reexecuted": false,
    "execution_millis": 0,
    "execution_start": 1639232535633,
    "id": "k4zhnrcP2Df2",
    "source_hash": "7d82b8f9",
    "tags": []
   },
   "outputs": [],
   "source": [
    "def preprocess_text(review):\n",
    "    # using regex to replace\n",
    "    review = codecs.decode(review, 'unicode_escape') #remove escape character\n",
    "    review = review[2:-1]\n",
    "    review = re.sub('((www\\.[^\\s]+)|(https?://[^\\s]+))','URL', review)\n",
    "    review = re.sub('[^\\x00-\\x7f]', '', review) \n",
    "    review = re.sub('@[^\\s]+','USER', review)\n",
    "    review = review.lower().replace(\"ё\", \"е\")\n",
    "    review = re.sub('[^a-zA-Zа-яА-Я1-9]+', ' ', review)\n",
    "    review = re.sub(' +',' ', review)\n",
    "    return review.strip()"
   ]
  },
  {
   "cell_type": "code",
   "execution_count": null,
   "metadata": {
    "cell_id": "00030-66dd81c2-59f5-43c0-8b39-83ac69ef4a73",
    "deepnote_cell_type": "code",
    "deepnote_to_be_reexecuted": false,
    "execution_millis": 1,
    "execution_start": 1639232535657,
    "id": "KOnhfX2m2Df3",
    "source_hash": "8ed1973c",
    "tags": []
   },
   "outputs": [],
   "source": [
    "df['tweet'] = [preprocess_text(review) for review in df['tweet']]"
   ]
  },
  {
   "cell_type": "markdown",
   "metadata": {
    "cell_id": "00031-2c345cea-4013-4ca8-af62-2a93c989c1de",
    "deepnote_cell_type": "markdown",
    "id": "eSNU6W7R2Df3",
    "tags": []
   },
   "source": [
    "## 7.3. Sentiment Analysis using Text Blob"
   ]
  },
  {
   "cell_type": "markdown",
   "metadata": {
    "cell_id": "00032-d12e0f20-d0a8-4765-9424-1ab0706d2a52",
    "deepnote_cell_type": "markdown",
    "id": "Lu3UvxQE2Df4",
    "tags": []
   },
   "source": [
    "### 7.3.1. Get Sentiment\n",
    "\n",
    "Bekerja dengan baik pada data text yang berbahasa Inggris"
   ]
  },
  {
   "cell_type": "code",
   "execution_count": null,
   "metadata": {
    "cell_id": "00032-b2141320-19cc-4b34-802e-b38fdda13a3f",
    "deepnote_cell_type": "code",
    "deepnote_to_be_reexecuted": false,
    "execution_millis": 796,
    "execution_start": 1639232535682,
    "id": "xbwpS0Fh2Df5",
    "source_hash": "8a3be092",
    "tags": []
   },
   "outputs": [],
   "source": [
    "from textblob import TextBlob\n",
    "\n",
    "def sentiment_analysis(data):\n",
    "  def getSubjectivity(text):\n",
    "    return TextBlob(text).sentiment.subjectivity\n",
    "\n",
    "  #Create a function to get the polarity\n",
    "  def getPolarity(text):\n",
    "    return TextBlob(text).sentiment.polarity\n",
    "\n",
    "  def getAnalysis(score):\n",
    "    if score < 0:\n",
    "      return \"Negative\"\n",
    "    elif score == 0:\n",
    "      return \"Neutral\"\n",
    "    else:\n",
    "      return \"Positive\"\n",
    "\n",
    "  #Create two new columns 'Subjectivity' & 'Polarity'\n",
    "  data[\"TextBlob_Subjectivity\"] = data[\"tweet\"].apply(getSubjectivity)\n",
    "  data[\"TextBlob_Polarity\"] = data[\"tweet\"].apply(getPolarity)\n",
    "\n",
    "  data[\"TextBlob_Analysis\"] = data[\"TextBlob_Polarity\"].apply(getAnalysis)\n",
    "  return data"
   ]
  },
  {
   "cell_type": "code",
   "execution_count": null,
   "metadata": {
    "cell_id": "00034-c9f6ce8a-24dc-4e93-ae46-d30e3415ca18",
    "deepnote_cell_type": "code",
    "deepnote_to_be_reexecuted": false,
    "execution_millis": 181,
    "execution_start": 1639232536498,
    "id": "y5eOmlg32Df7",
    "outputId": "206add1d-aacd-4b53-8942-9d8342c94283",
    "source_hash": "1c3c5fbf",
    "tags": []
   },
   "outputs": [
    {
     "data": {
      "application/vnd.deepnote.dataframe.v2+json": {
       "column_count": 6,
       "columns": [
        {
         "dtype": "int64",
         "name": "id",
         "stats": {
          "histogram": [
           {
            "bin_end": 146931759144609180,
            "bin_start": 63043,
            "count": 60
           },
           {
            "bin_end": 293863518289155300,
            "bin_start": 146931759144609180,
            "count": 0
           },
           {
            "bin_end": 440795277433701440,
            "bin_start": 293863518289155300,
            "count": 0
           },
           {
            "bin_end": 587727036578247700,
            "bin_start": 440795277433701440,
            "count": 0
           },
           {
            "bin_end": 734658795722793900,
            "bin_start": 587727036578247700,
            "count": 3
           },
           {
            "bin_end": 881590554867339900,
            "bin_start": 734658795722793900,
            "count": 6
           },
           {
            "bin_end": 1028522314011886100,
            "bin_start": 881590554867339900,
            "count": 8
           },
           {
            "bin_end": 1175454073156432100,
            "bin_start": 1028522314011886100,
            "count": 8
           },
           {
            "bin_end": 1322385832300978200,
            "bin_start": 1175454073156432100,
            "count": 11
           },
           {
            "bin_end": 1469317591445524500,
            "bin_start": 1322385832300978200,
            "count": 9
           }
          ],
          "max": "1469317591445524490",
          "min": "63043",
          "nan_count": 0,
          "unique_count": 94
         }
        },
        {
         "dtype": "object",
         "name": "username",
         "stats": {
          "categories": [
           {
            "count": 8,
            "name": "SATYAJIT GHOSH "
           },
           {
            "count": 2,
            "name": "Prof. Lee Stott"
           },
           {
            "count": 95,
            "name": "92 others"
           }
          ],
          "nan_count": 0,
          "unique_count": 94
         }
        },
        {
         "dtype": "object",
         "name": "tweet",
         "stats": {
          "categories": [
           {
            "count": 4,
            "name": "rt user google play store games coming to windows 1 and 11 next year url url"
           },
           {
            "count": 3,
            "name": "rt user we re bringing play games to windows 1 and 11 pretty excited to partner with so many game developers so that you can seam"
           },
           {
            "count": 98,
            "name": "88 others"
           }
          ],
          "nan_count": 0,
          "unique_count": 90
         }
        },
        {
         "dtype": "float64",
         "name": "TextBlob_Subjectivity",
         "stats": {
          "histogram": [
           {
            "bin_end": 0.1,
            "bin_start": 0,
            "count": 42
           },
           {
            "bin_end": 0.2,
            "bin_start": 0.1,
            "count": 1
           },
           {
            "bin_end": 0.30000000000000004,
            "bin_start": 0.2,
            "count": 7
           },
           {
            "bin_end": 0.4,
            "bin_start": 0.30000000000000004,
            "count": 9
           },
           {
            "bin_end": 0.5,
            "bin_start": 0.4,
            "count": 13
           },
           {
            "bin_end": 0.6000000000000001,
            "bin_start": 0.5,
            "count": 13
           },
           {
            "bin_end": 0.7000000000000001,
            "bin_start": 0.6000000000000001,
            "count": 11
           },
           {
            "bin_end": 0.8,
            "bin_start": 0.7000000000000001,
            "count": 5
           },
           {
            "bin_end": 0.9,
            "bin_start": 0.8,
            "count": 1
           },
           {
            "bin_end": 1,
            "bin_start": 0.9,
            "count": 3
           }
          ],
          "max": "1.0",
          "min": "0.0",
          "nan_count": 0,
          "unique_count": 36
         }
        },
        {
         "dtype": "float64",
         "name": "TextBlob_Polarity",
         "stats": {
          "histogram": [
           {
            "bin_end": -0.8,
            "bin_start": -1,
            "count": 1
           },
           {
            "bin_end": -0.6,
            "bin_start": -0.8,
            "count": 0
           },
           {
            "bin_end": -0.3999999999999999,
            "bin_start": -0.6,
            "count": 3
           },
           {
            "bin_end": -0.19999999999999996,
            "bin_start": -0.3999999999999999,
            "count": 9
           },
           {
            "bin_end": 0,
            "bin_start": -0.19999999999999996,
            "count": 10
           },
           {
            "bin_end": 0.20000000000000018,
            "bin_start": 0,
            "count": 59
           },
           {
            "bin_end": 0.40000000000000013,
            "bin_start": 0.20000000000000018,
            "count": 10
           },
           {
            "bin_end": 0.6000000000000001,
            "bin_start": 0.40000000000000013,
            "count": 9
           },
           {
            "bin_end": 0.8,
            "bin_start": 0.6000000000000001,
            "count": 2
           },
           {
            "bin_end": 1,
            "bin_start": 0.8,
            "count": 2
           }
          ],
          "max": "1.0",
          "min": "-1.0",
          "nan_count": 0,
          "unique_count": 38
         }
        },
        {
         "dtype": "object",
         "name": "TextBlob_Analysis",
         "stats": {
          "categories": [
           {
            "count": 43,
            "name": "Neutral"
           },
           {
            "count": 39,
            "name": "Positive"
           },
           {
            "count": 23,
            "name": "Negative"
           }
          ],
          "nan_count": 0,
          "unique_count": 3
         }
        },
        {
         "dtype": "int64",
         "name": "_deepnote_index_column"
        }
       ],
       "row_count": 105,
       "rows_bottom": null,
       "rows_top": [
        {
         "TextBlob_Analysis": "Positive",
         "TextBlob_Polarity": 0.18125,
         "TextBlob_Subjectivity": 0.6625,
         "_deepnote_index_column": 0,
         "id": 60951089,
         "tweet": "rt user we re bringing play games to windows 1 and 11 pretty excited to partner with so many game d…",
         "username": "桜木李杏🌸🍲🦊C99_1日目「メ36a」委託/2日目「に35a」"
        },
        {
         "TextBlob_Analysis": "Positive",
         "TextBlob_Polarity": 0.3666666666666667,
         "TextBlob_Subjectivity": 0.7000000000000001,
         "_deepnote_index_column": 1,
         "id": 1408009628764586000,
         "tweet": "user user my 2 cents do a clean windows 11 installation and just install your chipset and gpu drive…",
         "username": "theolreverendsburner"
        },
        {
         "TextBlob_Analysis": "Positive",
         "TextBlob_Polarity": 0.2681818181818182,
         "TextBlob_Subjectivity": 0.42727272727272725,
         "_deepnote_index_column": 2,
         "id": 1082920971114332200,
         "tweet": "product the lenovo notebook laptops with new windows 11 are now available on the ricoh eshop for uk…",
         "username": "Ricoh eShop UK"
        },
        {
         "TextBlob_Analysis": "Negative",
         "TextBlob_Polarity": -0.15,
         "TextBlob_Subjectivity": 0.4,
         "_deepnote_index_column": 3,
         "id": 2198733733,
         "tweet": "after dark gray theme for windows 11 get it here url freefire windows11 bts fifa22 url",
         "username": "Cleodesktop"
        },
        {
         "TextBlob_Analysis": "Neutral",
         "TextBlob_Polarity": 0,
         "TextBlob_Subjectivity": 0,
         "_deepnote_index_column": 4,
         "id": 1052557647856189400,
         "tweet": "should i upgrade to windows 11 i m angsty about this",
         "username": "Beyte Fyr"
        },
        {
         "TextBlob_Analysis": "Neutral",
         "TextBlob_Polarity": 0,
         "TextBlob_Subjectivity": 0,
         "_deepnote_index_column": 5,
         "id": 741271705419681800,
         "tweet": "pantone color of the year 2 22 theme for windows11 url",
         "username": "Pureinfotech (feed)"
        },
        {
         "TextBlob_Analysis": "Positive",
         "TextBlob_Polarity": 0.0642857142857143,
         "TextBlob_Subjectivity": 0.3214285714285714,
         "_deepnote_index_column": 6,
         "id": 153375516,
         "tweet": "rt user limited availability windows 11 ready laptops order now for christmas delivery windows11 ur…",
         "username": "Marcus Griffiths"
        },
        {
         "TextBlob_Analysis": "Positive",
         "TextBlob_Polarity": 0.13636363636363635,
         "TextBlob_Subjectivity": 0.45454545454545453,
         "_deepnote_index_column": 7,
         "id": 1005087587923419100,
         "tweet": "as the availability of new pc processors and new generation windows 11 will drive a replacement boo…",
         "username": "いまおか"
        },
        {
         "TextBlob_Analysis": "Positive",
         "TextBlob_Polarity": 0.1,
         "TextBlob_Subjectivity": 0.3625,
         "_deepnote_index_column": 8,
         "id": 1441080293364879400,
         "tweet": "arggggg everything in windows 11 is getting clicked twice everyone facing the same bug windows fix …",
         "username": "Vinay Kishore"
        },
        {
         "TextBlob_Analysis": "Positive",
         "TextBlob_Polarity": 0.37878787878787873,
         "TextBlob_Subjectivity": 0.5181818181818182,
         "_deepnote_index_column": 9,
         "id": 3064146644,
         "tweet": "rt user it might not come with a bow on top but your pc will love that shiny new upgrade regardless…",
         "username": "SATYAJIT GHOSH "
        },
        {
         "TextBlob_Analysis": "Negative",
         "TextBlob_Polarity": -1,
         "TextBlob_Subjectivity": 1,
         "_deepnote_index_column": 10,
         "id": 20961162,
         "tweet": "the 1 worst things about windows 11 pcmag url",
         "username": "Sam Bowne"
        },
        {
         "TextBlob_Analysis": "Positive",
         "TextBlob_Polarity": 0.37878787878787873,
         "TextBlob_Subjectivity": 0.5181818181818182,
         "_deepnote_index_column": 11,
         "id": 1384072455929565200,
         "tweet": "rt user it might not come with a bow on top but your pc will love that shiny new upgrade regardless…",
         "username": "Danielle Matos"
        },
        {
         "TextBlob_Analysis": "Neutral",
         "TextBlob_Polarity": 0,
         "TextBlob_Subjectivity": 0,
         "_deepnote_index_column": 12,
         "id": 1292947390215778300,
         "tweet": "user is windows 11 bearable and like functional",
         "username": "Vandal ❄️"
        },
        {
         "TextBlob_Analysis": "Neutral",
         "TextBlob_Polarity": 0,
         "TextBlob_Subjectivity": 0,
         "_deepnote_index_column": 13,
         "id": 215833298,
         "tweet": "windows 11 on intel core 7th gen url",
         "username": "Danlie"
        },
        {
         "TextBlob_Analysis": "Positive",
         "TextBlob_Polarity": 0.5,
         "TextBlob_Subjectivity": 0.5,
         "_deepnote_index_column": 14,
         "id": 760478434095226900,
         "tweet": "windows 11 is getting one of windows 1 s most divisive features url",
         "username": "william mcnellis"
        },
        {
         "TextBlob_Analysis": "Neutral",
         "TextBlob_Polarity": 0,
         "TextBlob_Subjectivity": 0,
         "_deepnote_index_column": 15,
         "id": 95925831,
         "tweet": "windows 11 and xbox are calling my name in 2 22",
         "username": "Michael Brown"
        },
        {
         "TextBlob_Analysis": "Positive",
         "TextBlob_Polarity": 0.5,
         "TextBlob_Subjectivity": 0.5,
         "_deepnote_index_column": 16,
         "id": 1168656219474747400,
         "tweet": "android 11 is better than windows",
         "username": "LTT Markov"
        },
        {
         "TextBlob_Analysis": "Positive",
         "TextBlob_Polarity": 0.5,
         "TextBlob_Subjectivity": 0.5,
         "_deepnote_index_column": 17,
         "id": 109082290,
         "tweet": "top 7 ways to fix firefox not responding on windows 1 and windows 11 firefox chrome microsoftedge u…",
         "username": "National Cyber Security"
        },
        {
         "TextBlob_Analysis": "Positive",
         "TextBlob_Polarity": 0.5,
         "TextBlob_Subjectivity": 0.5,
         "_deepnote_index_column": 18,
         "id": 194297917,
         "tweet": "top 7 ways to fix firefox not responding on windows 1 and windows 11 firefox chrome microsoftedge u…",
         "username": "Gregory D. Evans"
        },
        {
         "TextBlob_Analysis": "Negative",
         "TextBlob_Polarity": -0.2875,
         "TextBlob_Subjectivity": 0.95,
         "_deepnote_index_column": 19,
         "id": 1239549226025193500,
         "tweet": "windows 11 is the worst so far it has unbelievably bugs slowness and critical issues i m reinstalli…",
         "username": "Mahmoud👨🏻‍💻"
        },
        {
         "TextBlob_Analysis": "Neutral",
         "TextBlob_Polarity": 0,
         "TextBlob_Subjectivity": 0,
         "_deepnote_index_column": 20,
         "id": 546063993,
         "tweet": "how to make your chrome browser look like windows 11 url url",
         "username": "First Column - IT"
        },
        {
         "TextBlob_Analysis": "Positive",
         "TextBlob_Polarity": 0.35,
         "TextBlob_Subjectivity": 0.6000000000000001,
         "_deepnote_index_column": 21,
         "id": 3064146644,
         "tweet": "rt user user i just like bloomberry it s different it tastes good like user 11",
         "username": "SATYAJIT GHOSH "
        },
        {
         "TextBlob_Analysis": "Positive",
         "TextBlob_Polarity": 0.35,
         "TextBlob_Subjectivity": 0.6000000000000001,
         "_deepnote_index_column": 22,
         "id": 1021740965407600600,
         "tweet": "user i just like bloomberry it s different it tastes good like user 11",
         "username": "JD is studying"
        },
        {
         "TextBlob_Analysis": "Positive",
         "TextBlob_Polarity": 0.5,
         "TextBlob_Subjectivity": 0.5,
         "_deepnote_index_column": 23,
         "id": 620295058,
         "tweet": "top 7 ways to fix firefox not responding on windows 1 and windows 11 url",
         "username": "Ezefidelity"
        },
        {
         "TextBlob_Analysis": "Neutral",
         "TextBlob_Polarity": 0,
         "TextBlob_Subjectivity": 0,
         "_deepnote_index_column": 24,
         "id": 92008385,
         "tweet": "rt user google is bringing google play games to windows and you wont need windows 11 url url",
         "username": "Prof. Lee Stott"
        },
        {
         "TextBlob_Analysis": "Positive",
         "TextBlob_Polarity": 0.7,
         "TextBlob_Subjectivity": 0.6000000000000001,
         "_deepnote_index_column": 25,
         "id": 3064146644,
         "tweet": "rt user good news microsoft is accelerating the windows 11 rollout for eligible devices url",
         "username": "SATYAJIT GHOSH "
        },
        {
         "TextBlob_Analysis": "Positive",
         "TextBlob_Polarity": 0.1,
         "TextBlob_Subjectivity": 0.4,
         "_deepnote_index_column": 26,
         "id": 92008385,
         "tweet": "rt user microsoft is adding a video encoding feature directly into directx 12 on windows 11 it will…",
         "username": "Prof. Lee Stott"
        },
        {
         "TextBlob_Analysis": "Positive",
         "TextBlob_Polarity": 0.7,
         "TextBlob_Subjectivity": 0.6000000000000001,
         "_deepnote_index_column": 27,
         "id": 1264655569,
         "tweet": "good news microsoft is accelerating the windows 11 rollout for eligible devices url",
         "username": "XBASE Technologies"
        },
        {
         "TextBlob_Analysis": "Neutral",
         "TextBlob_Polarity": 0,
         "TextBlob_Subjectivity": 0,
         "_deepnote_index_column": 28,
         "id": 63043,
         "tweet": "how to stop automatic updates on windows 11 url",
         "username": "MUO"
        },
        {
         "TextBlob_Analysis": "Negative",
         "TextBlob_Polarity": -0.03333333333333333,
         "TextBlob_Subjectivity": 0.6666666666666666,
         "_deepnote_index_column": 29,
         "id": 4026513973,
         "tweet": "be careful if you upgrade to windows 11 and then change your mind you only have 1 days to revert ba…",
         "username": "IBITS"
        },
        {
         "TextBlob_Analysis": "Neutral",
         "TextBlob_Polarity": 0,
         "TextBlob_Subjectivity": 0,
         "_deepnote_index_column": 30,
         "id": 3064146644,
         "tweet": "rt user microsoft has partnered with user to incorporate the 2 22 color of the year into our produc…",
         "username": "SATYAJIT GHOSH "
        },
        {
         "TextBlob_Analysis": "Positive",
         "TextBlob_Polarity": 1,
         "TextBlob_Subjectivity": 0.3,
         "_deepnote_index_column": 31,
         "id": 852845856319565800,
         "tweet": "the best productivity features you should use in windows 11 url",
         "username": "Kevin John Banks"
        },
        {
         "TextBlob_Analysis": "Neutral",
         "TextBlob_Polarity": 0,
         "TextBlob_Subjectivity": 0,
         "_deepnote_index_column": 32,
         "id": 3303759385,
         "tweet": "rt user microsoft has partnered with user to incorporate the 2 22 color of the year into our produc…",
         "username": "Gyana"
        },
        {
         "TextBlob_Analysis": "Positive",
         "TextBlob_Polarity": 0.3181818181818182,
         "TextBlob_Subjectivity": 0.5272727272727272,
         "_deepnote_index_column": 33,
         "id": 612076511,
         "tweet": "user there s so much to love with windows 11 which of the new features has been standing out to you",
         "username": "Microsoft Surface"
        },
        {
         "TextBlob_Analysis": "Positive",
         "TextBlob_Polarity": 0.13636363636363635,
         "TextBlob_Subjectivity": 0.45454545454545453,
         "_deepnote_index_column": 34,
         "id": 1229759588,
         "tweet": "user upgraded to windows 11 on my new laptop",
         "username": "Honky Tonk Chicken Man Nacho Libre 🏒😎🇨🇦"
        },
        {
         "TextBlob_Analysis": "Neutral",
         "TextBlob_Polarity": 0,
         "TextBlob_Subjectivity": 0,
         "_deepnote_index_column": 35,
         "id": 3064146644,
         "tweet": "rt user microsoft is bringing back the weather widget on the windows 11 taskbar url",
         "username": "SATYAJIT GHOSH "
        },
        {
         "TextBlob_Analysis": "Neutral",
         "TextBlob_Polarity": 0,
         "TextBlob_Subjectivity": 0,
         "_deepnote_index_column": 36,
         "id": 1381392402687090700,
         "tweet": "rt user google is bringing google play games to windows and you wont need windows 11 url url",
         "username": "Ahmed Abdel Latif"
        },
        {
         "TextBlob_Analysis": "Neutral",
         "TextBlob_Polarity": 0,
         "TextBlob_Subjectivity": 0,
         "_deepnote_index_column": 37,
         "id": 3360886175,
         "tweet": "microsoft is bringing back the weather widget on the windows 11 taskbar url",
         "username": "Trinico Cloud"
        },
        {
         "TextBlob_Analysis": "Negative",
         "TextBlob_Polarity": -0.16666666666666666,
         "TextBlob_Subjectivity": 0.6666666666666666,
         "_deepnote_index_column": 38,
         "id": 399985113,
         "tweet": "in the core of this insane feature is 3 yrs old technology of lernoutandhauspie microsoft goes hand…",
         "username": "Dimitri Lambrecht"
        },
        {
         "TextBlob_Analysis": "Neutral",
         "TextBlob_Polarity": 0,
         "TextBlob_Subjectivity": 0,
         "_deepnote_index_column": 39,
         "id": 1251493696740229000,
         "tweet": "notebook hp revolve 81 g3 11 touch intel core i7 56 u 2 6 ghz 8 gb de ram ssd de 24 gb windows 1 pr…",
         "username": "TecniAsistencia.es"
        },
        {
         "TextBlob_Analysis": "Negative",
         "TextBlob_Polarity": -0.17291666666666666,
         "TextBlob_Subjectivity": 0.48958333333333337,
         "_deepnote_index_column": 40,
         "id": 3064146644,
         "tweet": "rt user android 12 is like when microsoft released windows 8 with the metro ui it s flat bland diff…",
         "username": "SATYAJIT GHOSH "
        },
        {
         "TextBlob_Analysis": "Neutral",
         "TextBlob_Polarity": 0,
         "TextBlob_Subjectivity": 0,
         "_deepnote_index_column": 41,
         "id": 26977067,
         "tweet": "google play store games coming to windows 1 and 11 next year url url",
         "username": "Rose Sana"
        },
        {
         "TextBlob_Analysis": "Neutral",
         "TextBlob_Polarity": 0,
         "TextBlob_Subjectivity": 0,
         "_deepnote_index_column": 42,
         "id": 77179485,
         "tweet": "even moving windows around lags on windows 11 on a maxed out surface book 3",
         "username": "Sam Afshari 🇪🇺"
        },
        {
         "TextBlob_Analysis": "Neutral",
         "TextBlob_Polarity": 0,
         "TextBlob_Subjectivity": 0,
         "_deepnote_index_column": 43,
         "id": 1341063807154745300,
         "tweet": "user i ve read it might be using wayland but in any case yeah on windows 11 you can just install gu…",
         "username": "ash/declan 📀🎵🎮"
        },
        {
         "TextBlob_Analysis": "Negative",
         "TextBlob_Polarity": -0.15,
         "TextBlob_Subjectivity": 0.4,
         "_deepnote_index_column": 44,
         "id": 3433815723,
         "tweet": "rt user hands on with windows 11 s redesigned notepad app with dark mode url windows11 url",
         "username": "WiseGuys"
        },
        {
         "TextBlob_Analysis": "Negative",
         "TextBlob_Polarity": -0.23055555555555554,
         "TextBlob_Subjectivity": 0.6527777777777778,
         "_deepnote_index_column": 45,
         "id": 61975633,
         "tweet": "android 12 is like when microsoft released windows 8 with the metro ui it s flat bland difficult to…",
         "username": "Pierce Arner"
        },
        {
         "TextBlob_Analysis": "Neutral",
         "TextBlob_Polarity": 0,
         "TextBlob_Subjectivity": 0,
         "_deepnote_index_column": 46,
         "id": 1284414997599117300,
         "tweet": "user user are you upgrade to windows 11",
         "username": "nightplu"
        },
        {
         "TextBlob_Analysis": "Negative",
         "TextBlob_Polarity": -0.30000000000000004,
         "TextBlob_Subjectivity": 0.39999999999999997,
         "_deepnote_index_column": 47,
         "id": 77179485,
         "tweet": "downgraded from user 11 to windows 1 11 is too slow inefficient unpolished and buggy",
         "username": "Sam Afshari 🇪🇺"
        },
        {
         "TextBlob_Analysis": "Negative",
         "TextBlob_Polarity": -0.15555555555555559,
         "TextBlob_Subjectivity": 0.2888888888888889,
         "_deepnote_index_column": 48,
         "id": 743579496574492700,
         "tweet": "rt user microsoft admits another windows 11 bug is slowing down pcs but a fix is coming url windows…",
         "username": "Lorenzo D'Annunzio"
        },
        {
         "TextBlob_Analysis": "Negative",
         "TextBlob_Polarity": -0.2,
         "TextBlob_Subjectivity": 0.2,
         "_deepnote_index_column": 49,
         "id": 2790948541,
         "tweet": "google play store games coming to windows 1 and 11 next year url during this year s game aw url",
         "username": "Tech Industry Briefly"
        },
        {
         "TextBlob_Analysis": "Neutral",
         "TextBlob_Polarity": 0,
         "TextBlob_Subjectivity": 0,
         "_deepnote_index_column": 50,
         "id": 968617616762916900,
         "tweet": "rt user take that windows 11 and defender url",
         "username": "The Bluewolf"
        },
        {
         "TextBlob_Analysis": "Negative",
         "TextBlob_Polarity": -0.2,
         "TextBlob_Subjectivity": 0.55,
         "_deepnote_index_column": 51,
         "id": 2480152112,
         "tweet": "annoyed by fix low microphone volume issues in windows 11 lets see what can be done to fix the issu…",
         "username": "Hawkdive"
        },
        {
         "TextBlob_Analysis": "Neutral",
         "TextBlob_Polarity": 0,
         "TextBlob_Subjectivity": 0,
         "_deepnote_index_column": 52,
         "id": 725719639175516200,
         "tweet": "windows 11 i abhor you",
         "username": "🌸 サッチ 🌸"
        },
        {
         "TextBlob_Analysis": "Positive",
         "TextBlob_Polarity": 0.15,
         "TextBlob_Subjectivity": 0.3444444444444444,
         "_deepnote_index_column": 53,
         "id": 4143203369,
         "tweet": "user there was a short dip when ssds first entered the market but windows 11 seems capable of retur…",
         "username": "Karl Heinz Häsliprinz"
        },
        {
         "TextBlob_Analysis": "Positive",
         "TextBlob_Polarity": 0.5,
         "TextBlob_Subjectivity": 0.75,
         "_deepnote_index_column": 54,
         "id": 2438099425,
         "tweet": "rt user look at this adorable airbnb i found so spacious and so many windows consider it booked som…",
         "username": "総理大臣@あんぽんたん"
        },
        {
         "TextBlob_Analysis": "Neutral",
         "TextBlob_Polarity": 0,
         "TextBlob_Subjectivity": 0,
         "_deepnote_index_column": 55,
         "id": 113231054,
         "tweet": "rt user google play store games coming to windows 1 and 11 next year url url",
         "username": "J • P • M • T"
        },
        {
         "TextBlob_Analysis": "Neutral",
         "TextBlob_Polarity": 0,
         "TextBlob_Subjectivity": 0,
         "_deepnote_index_column": 56,
         "id": 726420862866346000,
         "tweet": "windows 11 ice cream",
         "username": "taufiq #GrazieVale"
        },
        {
         "TextBlob_Analysis": "Neutral",
         "TextBlob_Polarity": 0,
         "TextBlob_Subjectivity": 0,
         "_deepnote_index_column": 57,
         "id": 3816550932,
         "tweet": "how to make your chrome browser look like windows 11 url url",
         "username": "Reciprocal Technologies"
        },
        {
         "TextBlob_Analysis": "Neutral",
         "TextBlob_Polarity": 0,
         "TextBlob_Subjectivity": 0,
         "_deepnote_index_column": 58,
         "id": 56799145,
         "tweet": "of course me being me im going to try and upgrade it to windows 11 now",
         "username": "Lonely This Chris-mas 🎅🏻"
        },
        {
         "TextBlob_Analysis": "Positive",
         "TextBlob_Polarity": 0.175,
         "TextBlob_Subjectivity": 0.3666666666666667,
         "_deepnote_index_column": 59,
         "id": 1433881,
         "tweet": "upgraded to windows 11 yesterday first time i ve been completely meh about a windows upgrade lookin…",
         "username": "Zach Petersen"
        },
        {
         "TextBlob_Analysis": "Neutral",
         "TextBlob_Polarity": 0,
         "TextBlob_Subjectivity": 0,
         "_deepnote_index_column": 60,
         "id": 1142416848044068900,
         "tweet": "has anyone updated to windows 11 how are you finding it if so",
         "username": "Katie, In Search of the Way"
        },
        {
         "TextBlob_Analysis": "Neutral",
         "TextBlob_Polarity": 0,
         "TextBlob_Subjectivity": 0,
         "_deepnote_index_column": 61,
         "id": 2858012136,
         "tweet": "google play store games coming to windows 1 and 11 nextyear url",
         "username": "Latest Phones & Gadgets"
        },
        {
         "TextBlob_Analysis": "Positive",
         "TextBlob_Polarity": 0.15,
         "TextBlob_Subjectivity": 0.5166666666666667,
         "_deepnote_index_column": 62,
         "id": 314653455,
         "tweet": "rt user id love to see a windows 3 11 pc minia micro game console think nes mini shaped like a 386 …",
         "username": "xbit ops"
        },
        {
         "TextBlob_Analysis": "Negative",
         "TextBlob_Polarity": -0.30000000000000004,
         "TextBlob_Subjectivity": 0.39999999999999997,
         "_deepnote_index_column": 63,
         "id": 1114995429958144000,
         "tweet": "can anyone help me figure out why my laptop is slow and how to fix it ive upgraded to windows 11 tr…",
         "username": "schwa 🦎👒"
        },
        {
         "TextBlob_Analysis": "Neutral",
         "TextBlob_Polarity": 0,
         "TextBlob_Subjectivity": 0,
         "_deepnote_index_column": 64,
         "id": 19720653,
         "tweet": "android games will arrive on windows 11 next year url via user",
         "username": "Tech Advisor"
        },
        {
         "TextBlob_Analysis": "Neutral",
         "TextBlob_Polarity": 0,
         "TextBlob_Subjectivity": 0,
         "_deepnote_index_column": 65,
         "id": 1312893851191959600,
         "tweet": "rt user user user user user user user user user user user",
         "username": "euge del carril"
        },
        {
         "TextBlob_Analysis": "Negative",
         "TextBlob_Polarity": -0.15555555555555559,
         "TextBlob_Subjectivity": 0.2888888888888889,
         "_deepnote_index_column": 66,
         "id": 760678325685784600,
         "tweet": "user yah there used to be one that every night at 11 3 pm on the dot would come roaring down the st…",
         "username": "Aaron Brighton"
        },
        {
         "TextBlob_Analysis": "Positive",
         "TextBlob_Polarity": 0.2,
         "TextBlob_Subjectivity": 0.4,
         "_deepnote_index_column": 67,
         "id": 5889072,
         "tweet": "dont miss the double sale at keysfan buy office and get windows 1 11 for free url url",
         "username": "Wccftech"
        },
        {
         "TextBlob_Analysis": "Positive",
         "TextBlob_Polarity": 0.36818181818181817,
         "TextBlob_Subjectivity": 0.7272727272727273,
         "_deepnote_index_column": 68,
         "id": 1166012424215883800,
         "tweet": "rt user google is bringing google play games to windows not via the new android in windows 11 thing…",
         "username": "Kruti"
        },
        {
         "TextBlob_Analysis": "Positive",
         "TextBlob_Polarity": 0.15,
         "TextBlob_Subjectivity": 0.5166666666666667,
         "_deepnote_index_column": 69,
         "id": 3064146644,
         "tweet": "rt user id love to see a windows 3 11 pc minia micro game console think nes mini shaped like a 386 …",
         "username": "SATYAJIT GHOSH "
        },
        {
         "TextBlob_Analysis": "Positive",
         "TextBlob_Polarity": 0.15,
         "TextBlob_Subjectivity": 0.5166666666666667,
         "_deepnote_index_column": 70,
         "id": 19948217,
         "tweet": "rt user id love to see a windows 3 11 pc minia micro game console think nes mini shaped like a 386 …",
         "username": "Benj Edwards"
        },
        {
         "TextBlob_Analysis": "Neutral",
         "TextBlob_Polarity": 0,
         "TextBlob_Subjectivity": 0,
         "_deepnote_index_column": 71,
         "id": 595292451,
         "tweet": "keyboard shortcuts in windows 11 url",
         "username": "Tero Alhonen"
        },
        {
         "TextBlob_Analysis": "Neutral",
         "TextBlob_Polarity": 0,
         "TextBlob_Subjectivity": 0,
         "_deepnote_index_column": 72,
         "id": 3041049114,
         "tweet": "how to make your chrome browser look like windows 11 url url",
         "username": "Peter Kenneally"
        },
        {
         "TextBlob_Analysis": "Positive",
         "TextBlob_Polarity": 0.6,
         "TextBlob_Subjectivity": 1,
         "_deepnote_index_column": 73,
         "id": 721544046653493200,
         "tweet": "user user some people have reported that doesnt work for them but thats nice i guess i know theyve …",
         "username": "RICK RIOS DOMÍNGUEZ"
        },
        {
         "TextBlob_Analysis": "Neutral",
         "TextBlob_Polarity": 0,
         "TextBlob_Subjectivity": 0,
         "_deepnote_index_column": 74,
         "id": 1304550008,
         "tweet": "rt user google play store games coming to windows 1 and 11 next year url url",
         "username": "Tetsuo"
        },
        {
         "TextBlob_Analysis": "Positive",
         "TextBlob_Polarity": 0.03750000000000001,
         "TextBlob_Subjectivity": 0.7333333333333334,
         "_deepnote_index_column": 75,
         "id": 1136014784569258000,
         "tweet": "just got windows 11 a little weird but i kinda dig it wish version of mac os lol",
         "username": "🌴 ʙᴀʀʙᴀᴅᴏꜱ ꜱʟɪᴍ 🌴"
        },
        {
         "TextBlob_Analysis": "Positive",
         "TextBlob_Polarity": 0.425,
         "TextBlob_Subjectivity": 0.775,
         "_deepnote_index_column": 76,
         "id": 339762824,
         "tweet": "latest windows11 dev channel build 22518 can use ms spotlight for desktop backgrounds cool wimvp url",
         "username": "Ed Tittel"
        },
        {
         "TextBlob_Analysis": "Neutral",
         "TextBlob_Polarity": 0,
         "TextBlob_Subjectivity": 0,
         "_deepnote_index_column": 77,
         "id": 2798993669,
         "tweet": "rt user google play store games coming to windows 1 and 11 next year url url",
         "username": "BlackHand"
        },
        {
         "TextBlob_Analysis": "Neutral",
         "TextBlob_Polarity": 0,
         "TextBlob_Subjectivity": 0,
         "_deepnote_index_column": 78,
         "id": 1435069887366455300,
         "tweet": "user hopefully it s not run on windows 11",
         "username": "Owen Fitzgerald"
        },
        {
         "TextBlob_Analysis": "Neutral",
         "TextBlob_Polarity": 0,
         "TextBlob_Subjectivity": 0.125,
         "_deepnote_index_column": 79,
         "id": 1190819764127568000,
         "tweet": "user but as i said before this came out windows 11 vista pre sp1 same damn thing there too except u…",
         "username": "Lauren \"Vote blue to keep out you know who\" McCoy"
        },
        {
         "TextBlob_Analysis": "Neutral",
         "TextBlob_Polarity": 0,
         "TextBlob_Subjectivity": 0,
         "_deepnote_index_column": 80,
         "id": 209038505,
         "tweet": "google will bring android games to windows 1 and 11 next year url via user",
         "username": "USMAN YUSUF™"
        },
        {
         "TextBlob_Analysis": "Positive",
         "TextBlob_Polarity": 0.475,
         "TextBlob_Subjectivity": 0.4666666666666667,
         "_deepnote_index_column": 81,
         "id": 1190819764127568000,
         "tweet": "user good keep the improvements coming when i first installed windows 11 arm on my mac m1 it was ve…",
         "username": "Lauren \"Vote blue to keep out you know who\" McCoy"
        },
        {
         "TextBlob_Analysis": "Neutral",
         "TextBlob_Polarity": 0,
         "TextBlob_Subjectivity": 0,
         "_deepnote_index_column": 82,
         "id": 899710030710284300,
         "tweet": "user no te instales windows 11",
         "username": "yo🎄 #advyout"
        },
        {
         "TextBlob_Analysis": "Negative",
         "TextBlob_Polarity": -0.30000000000000004,
         "TextBlob_Subjectivity": 0.39999999999999997,
         "_deepnote_index_column": 83,
         "id": 1080116711683178500,
         "tweet": "rt user microsoft acknowledges slow windows 11 nvme ssd write speeds issue is working on a fix url …",
         "username": "ǝWɹǝๅɐǝꓤǝɥꓕ 🍥"
        },
        {
         "TextBlob_Analysis": "Negative",
         "TextBlob_Polarity": -0.5,
         "TextBlob_Subjectivity": 0.3,
         "_deepnote_index_column": 84,
         "id": 1251067832667828200,
         "tweet": "lepi minta update windows 11 teroos tp takoot failed ueueue",
         "username": "bunga tidur jual iPhone cek pinned"
        },
        {
         "TextBlob_Analysis": "Positive",
         "TextBlob_Polarity": 0.13636363636363635,
         "TextBlob_Subjectivity": 0.45454545454545453,
         "_deepnote_index_column": 85,
         "id": 819821216764727300,
         "tweet": "new windows11 build tests voice access spotlight backgrounds by user url",
         "username": "Iryna.Fesenko"
        },
        {
         "TextBlob_Analysis": "Positive",
         "TextBlob_Polarity": 0.25,
         "TextBlob_Subjectivity": 0.3333333333333333,
         "_deepnote_index_column": 86,
         "id": 1013927542972211200,
         "tweet": "rt user we explored for the first time whether parenting moderated the association between attentio…",
         "username": "Mom Giggles"
        },
        {
         "TextBlob_Analysis": "Negative",
         "TextBlob_Polarity": -0.4,
         "TextBlob_Subjectivity": 0.8,
         "_deepnote_index_column": 87,
         "id": 932373490849628200,
         "tweet": "user i came home late like 11 didnt sleep til midnight so i bet she did come home drunk and wanted …",
         "username": "amy iverson"
        },
        {
         "TextBlob_Analysis": "Neutral",
         "TextBlob_Polarity": 0,
         "TextBlob_Subjectivity": 0,
         "_deepnote_index_column": 88,
         "id": 1394657618145136600,
         "tweet": "rt user google play store games coming to windows 1 and 11 next year url url",
         "username": "O. Lakshmi Tanmay Teja"
        },
        {
         "TextBlob_Analysis": "Negative",
         "TextBlob_Polarity": -0.15000000000000002,
         "TextBlob_Subjectivity": 0.5,
         "_deepnote_index_column": 89,
         "id": 30092983,
         "tweet": "user and then wondering why my computer is slow even though i have 11 different windows minimized t…",
         "username": "Zach Bigalke, ABD"
        },
        {
         "TextBlob_Analysis": "Neutral",
         "TextBlob_Polarity": 0,
         "TextBlob_Subjectivity": 0,
         "_deepnote_index_column": 90,
         "id": 56784509,
         "tweet": "oof windows 11 bsod url",
         "username": "Mark Stockman"
        },
        {
         "TextBlob_Analysis": "Positive",
         "TextBlob_Polarity": 0.25,
         "TextBlob_Subjectivity": 0.3333333333333333,
         "_deepnote_index_column": 91,
         "id": 1468984082734452700,
         "tweet": "rt user 15 rts and i ll make the first windows 11 iso",
         "username": "Crispy"
        },
        {
         "TextBlob_Analysis": "Positive",
         "TextBlob_Polarity": 0.18125,
         "TextBlob_Subjectivity": 0.6625,
         "_deepnote_index_column": 92,
         "id": 913207395500810200,
         "tweet": "rt user we re bringing play games to windows 1 and 11 pretty excited to partner with so many game d…",
         "username": "a1dnoah-b1ue"
        },
        {
         "TextBlob_Analysis": "Positive",
         "TextBlob_Polarity": 1,
         "TextBlob_Subjectivity": 0.3,
         "_deepnote_index_column": 93,
         "id": 1893719730,
         "tweet": "the best productivity features you should use in windows11 url",
         "username": "todayheadline"
        },
        {
         "TextBlob_Analysis": "Negative",
         "TextBlob_Polarity": -0.08055555555555556,
         "TextBlob_Subjectivity": 0.6305555555555555,
         "_deepnote_index_column": 94,
         "id": 3422367497,
         "tweet": "windows 11 is apparently impacting the speed of storage drives nvms ssds hard drive and microsoft h…",
         "username": "Artificial Geek"
        },
        {
         "TextBlob_Analysis": "Negative",
         "TextBlob_Polarity": -0.48333333333333334,
         "TextBlob_Subjectivity": 0.48333333333333334,
         "_deepnote_index_column": 95,
         "id": 2930156653,
         "tweet": "rt user microsoft is making windows 11 less annoying deeplearning iot bigdata cc user url h",
         "username": "Kim Muro"
        },
        {
         "TextBlob_Analysis": "Neutral",
         "TextBlob_Polarity": 0,
         "TextBlob_Subjectivity": 0,
         "_deepnote_index_column": 96,
         "id": 1227376754450477000,
         "tweet": "rt user google play is coming to windows 1 and 11 next year as hell freezes over googleplay windows…",
         "username": "Gideon Steward"
        },
        {
         "TextBlob_Analysis": "Neutral",
         "TextBlob_Polarity": 0,
         "TextBlob_Subjectivity": 0,
         "_deepnote_index_column": 97,
         "id": 1251493696740229000,
         "tweet": "notebook hp revolve 81 g3 11 touch intel core i7 56 u 2 6 ghz 8 gb de ram ssd de 24 gb windows 1 pr…",
         "username": "TecniAsistencia.es"
        },
        {
         "TextBlob_Analysis": "Negative",
         "TextBlob_Polarity": -0.15555555555555559,
         "TextBlob_Subjectivity": 0.2888888888888889,
         "_deepnote_index_column": 98,
         "id": 178250791,
         "tweet": "rt user microsoft admits another windows 11 bug is slowing down pcs but a fix is coming url windows…",
         "username": "Steven D"
        },
        {
         "TextBlob_Analysis": "Neutral",
         "TextBlob_Polarity": 0,
         "TextBlob_Subjectivity": 0,
         "_deepnote_index_column": 99,
         "id": 1007329123264389100,
         "tweet": "windows 11 support in los angeles url url",
         "username": "Generation IX Technologies"
        },
        {
         "TextBlob_Analysis": "Neutral",
         "TextBlob_Polarity": 0,
         "TextBlob_Subjectivity": 0,
         "_deepnote_index_column": 100,
         "id": 2281129274,
         "tweet": "windows 11 features 1 color filters windows11 colorfilters windows11features url",
         "username": "Mehmet"
        },
        {
         "TextBlob_Analysis": "Positive",
         "TextBlob_Polarity": 0.18125,
         "TextBlob_Subjectivity": 0.6625,
         "_deepnote_index_column": 101,
         "id": 2571317438,
         "tweet": "rt user we re bringing play games to windows 1 and 11 pretty excited to partner with so many game d…",
         "username": "鳥麦康人(とりむぎやすと)"
        },
        {
         "TextBlob_Analysis": "Negative",
         "TextBlob_Polarity": -0.20833333333333334,
         "TextBlob_Subjectivity": 0.4583333333333333,
         "_deepnote_index_column": 102,
         "id": 1274775491006922800,
         "tweet": "so i had a look at windows 11 the other day and uh why is microsoft trying to hard to make it look …",
         "username": "Ash Collins 🏴󠁧󠁢󠁷󠁬󠁳󠁿"
        },
        {
         "TextBlob_Analysis": "Negative",
         "TextBlob_Polarity": -0.20833333333333334,
         "TextBlob_Subjectivity": 0.4583333333333333,
         "_deepnote_index_column": 103,
         "id": 3064146644,
         "tweet": "rt user so i had a look at windows 11 the other day and uh why is microsoft trying to hard to make …",
         "username": "SATYAJIT GHOSH "
        },
        {
         "TextBlob_Analysis": "Neutral",
         "TextBlob_Polarity": 0,
         "TextBlob_Subjectivity": 0,
         "_deepnote_index_column": 104,
         "id": 1469317591445524500,
         "tweet": "when you don t wanna risk downloading windows 11 prematurely so you tinker with your windows 1 o s …",
         "username": "Soumyashree Biswal"
        }
       ]
      },
      "text/html": [
       "<div>\n",
       "<style scoped>\n",
       "    .dataframe tbody tr th:only-of-type {\n",
       "        vertical-align: middle;\n",
       "    }\n",
       "\n",
       "    .dataframe tbody tr th {\n",
       "        vertical-align: top;\n",
       "    }\n",
       "\n",
       "    .dataframe thead th {\n",
       "        text-align: right;\n",
       "    }\n",
       "</style>\n",
       "<table border=\"1\" class=\"dataframe\">\n",
       "  <thead>\n",
       "    <tr style=\"text-align: right;\">\n",
       "      <th></th>\n",
       "      <th>id</th>\n",
       "      <th>username</th>\n",
       "      <th>tweet</th>\n",
       "      <th>TextBlob_Subjectivity</th>\n",
       "      <th>TextBlob_Polarity</th>\n",
       "      <th>TextBlob_Analysis</th>\n",
       "    </tr>\n",
       "  </thead>\n",
       "  <tbody>\n",
       "    <tr>\n",
       "      <th>0</th>\n",
       "      <td>60951089</td>\n",
       "      <td>桜木李杏🌸🍲🦊C99_1日目「メ36a」委託/2日目「に35a」</td>\n",
       "      <td>rt user we re bringing play games to windows 1...</td>\n",
       "      <td>0.662500</td>\n",
       "      <td>0.181250</td>\n",
       "      <td>Positive</td>\n",
       "    </tr>\n",
       "    <tr>\n",
       "      <th>1</th>\n",
       "      <td>1408009628764585984</td>\n",
       "      <td>theolreverendsburner</td>\n",
       "      <td>user user my 2 cents do a clean windows 11 ins...</td>\n",
       "      <td>0.700000</td>\n",
       "      <td>0.366667</td>\n",
       "      <td>Positive</td>\n",
       "    </tr>\n",
       "    <tr>\n",
       "      <th>2</th>\n",
       "      <td>1082920971114332160</td>\n",
       "      <td>Ricoh eShop UK</td>\n",
       "      <td>product the lenovo notebook laptops with new w...</td>\n",
       "      <td>0.427273</td>\n",
       "      <td>0.268182</td>\n",
       "      <td>Positive</td>\n",
       "    </tr>\n",
       "    <tr>\n",
       "      <th>3</th>\n",
       "      <td>2198733733</td>\n",
       "      <td>Cleodesktop</td>\n",
       "      <td>after dark gray theme for windows 11 get it he...</td>\n",
       "      <td>0.400000</td>\n",
       "      <td>-0.150000</td>\n",
       "      <td>Negative</td>\n",
       "    </tr>\n",
       "    <tr>\n",
       "      <th>4</th>\n",
       "      <td>1052557647856189441</td>\n",
       "      <td>Beyte Fyr</td>\n",
       "      <td>should i upgrade to windows 11 i m angsty abou...</td>\n",
       "      <td>0.000000</td>\n",
       "      <td>0.000000</td>\n",
       "      <td>Neutral</td>\n",
       "    </tr>\n",
       "    <tr>\n",
       "      <th>...</th>\n",
       "      <td>...</td>\n",
       "      <td>...</td>\n",
       "      <td>...</td>\n",
       "      <td>...</td>\n",
       "      <td>...</td>\n",
       "      <td>...</td>\n",
       "    </tr>\n",
       "    <tr>\n",
       "      <th>100</th>\n",
       "      <td>2281129274</td>\n",
       "      <td>Mehmet</td>\n",
       "      <td>windows 11 features 1 color filters windows11 ...</td>\n",
       "      <td>0.000000</td>\n",
       "      <td>0.000000</td>\n",
       "      <td>Neutral</td>\n",
       "    </tr>\n",
       "    <tr>\n",
       "      <th>101</th>\n",
       "      <td>2571317438</td>\n",
       "      <td>鳥麦康人(とりむぎやすと)</td>\n",
       "      <td>rt user we re bringing play games to windows 1...</td>\n",
       "      <td>0.662500</td>\n",
       "      <td>0.181250</td>\n",
       "      <td>Positive</td>\n",
       "    </tr>\n",
       "    <tr>\n",
       "      <th>102</th>\n",
       "      <td>1274775491006922752</td>\n",
       "      <td>Ash Collins 🏴󠁧󠁢󠁷󠁬󠁳󠁿</td>\n",
       "      <td>so i had a look at windows 11 the other day an...</td>\n",
       "      <td>0.458333</td>\n",
       "      <td>-0.208333</td>\n",
       "      <td>Negative</td>\n",
       "    </tr>\n",
       "    <tr>\n",
       "      <th>103</th>\n",
       "      <td>3064146644</td>\n",
       "      <td>SATYAJIT GHOSH </td>\n",
       "      <td>rt user so i had a look at windows 11 the othe...</td>\n",
       "      <td>0.458333</td>\n",
       "      <td>-0.208333</td>\n",
       "      <td>Negative</td>\n",
       "    </tr>\n",
       "    <tr>\n",
       "      <th>104</th>\n",
       "      <td>1469317591445524490</td>\n",
       "      <td>Soumyashree Biswal</td>\n",
       "      <td>when you don t wanna risk downloading windows ...</td>\n",
       "      <td>0.000000</td>\n",
       "      <td>0.000000</td>\n",
       "      <td>Neutral</td>\n",
       "    </tr>\n",
       "  </tbody>\n",
       "</table>\n",
       "<p>105 rows × 6 columns</p>\n",
       "</div>"
      ],
      "text/plain": [
       "                      id                          username  \\\n",
       "0               60951089  桜木李杏🌸🍲🦊C99_1日目「メ36a」委託/2日目「に35a」   \n",
       "1    1408009628764585984              theolreverendsburner   \n",
       "2    1082920971114332160                    Ricoh eShop UK   \n",
       "3             2198733733                       Cleodesktop   \n",
       "4    1052557647856189441                         Beyte Fyr   \n",
       "..                   ...                               ...   \n",
       "100           2281129274                            Mehmet   \n",
       "101           2571317438                     鳥麦康人(とりむぎやすと)   \n",
       "102  1274775491006922752               Ash Collins 🏴󠁧󠁢󠁷󠁬󠁳󠁿   \n",
       "103           3064146644                  SATYAJIT GHOSH    \n",
       "104  1469317591445524490                Soumyashree Biswal   \n",
       "\n",
       "                                                 tweet  TextBlob_Subjectivity  \\\n",
       "0    rt user we re bringing play games to windows 1...               0.662500   \n",
       "1    user user my 2 cents do a clean windows 11 ins...               0.700000   \n",
       "2    product the lenovo notebook laptops with new w...               0.427273   \n",
       "3    after dark gray theme for windows 11 get it he...               0.400000   \n",
       "4    should i upgrade to windows 11 i m angsty abou...               0.000000   \n",
       "..                                                 ...                    ...   \n",
       "100  windows 11 features 1 color filters windows11 ...               0.000000   \n",
       "101  rt user we re bringing play games to windows 1...               0.662500   \n",
       "102  so i had a look at windows 11 the other day an...               0.458333   \n",
       "103  rt user so i had a look at windows 11 the othe...               0.458333   \n",
       "104  when you don t wanna risk downloading windows ...               0.000000   \n",
       "\n",
       "     TextBlob_Polarity TextBlob_Analysis  \n",
       "0             0.181250          Positive  \n",
       "1             0.366667          Positive  \n",
       "2             0.268182          Positive  \n",
       "3            -0.150000          Negative  \n",
       "4             0.000000           Neutral  \n",
       "..                 ...               ...  \n",
       "100           0.000000           Neutral  \n",
       "101           0.181250          Positive  \n",
       "102          -0.208333          Negative  \n",
       "103          -0.208333          Negative  \n",
       "104           0.000000           Neutral  \n",
       "\n",
       "[105 rows x 6 columns]"
      ]
     },
     "execution_count": 8,
     "metadata": {},
     "output_type": "execute_result"
    }
   ],
   "source": [
    "df = sentiment_analysis(df)\n",
    "df"
   ]
  },
  {
   "cell_type": "markdown",
   "metadata": {
    "cell_id": "00035-b2233e91-ae14-4860-8869-ade56faf264a",
    "deepnote_cell_type": "markdown",
    "id": "brUaDekc2Df8",
    "tags": []
   },
   "source": [
    "### 7.3.2. Get Most Frequent 20 words from Tweet"
   ]
  },
  {
   "cell_type": "code",
   "execution_count": null,
   "metadata": {
    "cell_id": "00036-2f825cfd-4673-4ad8-a652-480885ed922e",
    "deepnote_cell_type": "code",
    "deepnote_to_be_reexecuted": false,
    "execution_millis": 3,
    "execution_start": 1639232536681,
    "id": "hu38sPrf2Df9",
    "source_hash": "6cde14a7",
    "tags": []
   },
   "outputs": [],
   "source": [
    "from collections import Counter\n",
    "\n",
    "def getMostFrequentWord(df):\n",
    "    most_freq = Counter(\" \".join(df[\"tweet\"]).split()).most_common(30)\n",
    "\n",
    "    most_freq_filtered = {}\n",
    "    for i in most_freq:\n",
    "        if(i[0] == 'user' or i[0] == 'url' or i[0] == 'rt'):\n",
    "            continue\n",
    "        else:\n",
    "            most_freq_filtered[i[0]] = i[1]\n",
    "            if(len(most_freq_filtered) == 20): # ambil 20 kata paling banyak muncul\n",
    "                break\n",
    "\n",
    "    return most_freq_filtered"
   ]
  },
  {
   "cell_type": "code",
   "execution_count": null,
   "metadata": {
    "cell_id": "00037-55320c24-d173-49d4-ad44-7f575f3d454e",
    "deepnote_cell_type": "code",
    "deepnote_output_heights": [
     386
    ],
    "deepnote_to_be_reexecuted": false,
    "execution_millis": 7,
    "execution_start": 1639232536691,
    "id": "FTPtSL6A2Df-",
    "outputId": "6a0056b1-620f-491c-bc89-1b8e16ed17da",
    "source_hash": "ccba58b9",
    "tags": []
   },
   "outputs": [
    {
     "data": {
      "text/plain": [
       "{'windows': 104,\n",
       " '11': 92,\n",
       " 'to': 57,\n",
       " 'and': 39,\n",
       " 'the': 39,\n",
       " 'is': 29,\n",
       " '1': 25,\n",
       " 'a': 22,\n",
       " 'on': 22,\n",
       " 'it': 22,\n",
       " 'i': 20,\n",
       " 'microsoft': 17,\n",
       " 'you': 16,\n",
       " 'like': 16,\n",
       " 'games': 15,\n",
       " 'with': 15,\n",
       " 'so': 15,\n",
       " 'of': 15,\n",
       " 'google': 15,\n",
       " 'play': 14}"
      ]
     },
     "execution_count": 10,
     "metadata": {},
     "output_type": "execute_result"
    }
   ],
   "source": [
    "most_freq = getMostFrequentWord(df)\n",
    "most_freq"
   ]
  },
  {
   "cell_type": "markdown",
   "metadata": {
    "cell_id": "00038-7305b9a8-ba2d-4f38-ba91-77e9b9c17ca4",
    "deepnote_cell_type": "markdown",
    "id": "tnLbby0k2Df_",
    "tags": []
   },
   "source": [
    "# 8. Dashboard"
   ]
  },
  {
   "cell_type": "markdown",
   "metadata": {
    "cell_id": "00039-96c8b58a-9395-46d9-8817-b6d7ac07c999",
    "deepnote_cell_type": "markdown",
    "id": "jBuQglfe2Df_",
    "tags": []
   },
   "source": [
    "Rencana data yang akan ditampilkan:\n",
    "\n",
    "1. Identifikasi perspektif pengguna twitter terhadap kata kunci\n",
    "2. Kata yang sering muncul berdasarkan kata kunci"
   ]
  },
  {
   "cell_type": "code",
   "execution_count": null,
   "metadata": {
    "cell_id": "00038-80acce21-c45c-4caf-82b4-d154ad073121",
    "deepnote_cell_type": "code",
    "deepnote_output_heights": [
     530
    ],
    "deepnote_to_be_reexecuted": false,
    "execution_millis": 680,
    "execution_start": 1639232536704,
    "id": "m-U5Hhqr2DgA",
    "outputId": "4a2ab263-a8c3-4b74-b456-5b7d79a4be90",
    "source_hash": "1c72273f",
    "tags": []
   },
   "outputs": [
    {
     "data": {
      "image/png": "[encoded data removed]",
      "text/plain": [
       "<Figure size 1080x504 with 2 Axes>"
      ]
     },
     "metadata": {
      "image/png": {
       "height": 528,
       "width": 958
      },
      "needs_background": "light"
     },
     "output_type": "display_data"
    }
   ],
   "source": [
    "f, axes = plt.subplots(1, 2, figsize = (15, 7))\n",
    "# sns.set_style(\"white\")\n",
    "colors = sns.color_palette('pastel')[0:5]\n",
    "# colors = sns.color_palette('bright')[0:5]\n",
    "f.suptitle(\"{} Twitter Topic Analysis\".format(TOPIC), fontsize=20)\n",
    "f.tight_layout(pad=3.0)\n",
    "\n",
    "# figure 1\n",
    "ax1 = plt.subplot2grid((1,2),(0,0))\n",
    "ax1.title.set_text(\"{} Tweet Sentiment\".format(TOPIC))\n",
    "fig1 = plt.pie(df.groupby(\"TextBlob_Analysis\").size(), labels = df.groupby(\"TextBlob_Analysis\").size().index, colors = colors, autopct='%.0f%%')\n",
    "\n",
    "# figure 2\n",
    "ax2 = plt.subplot2grid((1,2),(0,1))\n",
    "ax2.title.set_text(\"{} Tweet Most Common Words\".format(TOPIC))\n",
    "fig2 = sns.barplot(x=list(most_freq.keys()), y=list(most_freq.values()))\n",
    "fig2.set(xlabel='Most Common Words', ylabel='Frequency')\n",
    "for item in fig2.get_xticklabels():\n",
    "    item.set_rotation(90)"
   ]
  },
  {
   "cell_type": "markdown",
   "metadata": {
    "created_in_deepnote_cell": true,
    "deepnote_cell_type": "markdown",
    "id": "rQRCRmQf2DgB",
    "tags": []
   },
   "source": [
    "<a style='text-decoration:none;line-height:16px;display:flex;color:#5B5B62;padding:10px;justify-content:end;' href='https://deepnote.com?utm_source=created-in-deepnote-cell&projectId=b8e11c0c-7fdf-4dfd-b1a7-95ec2bc1e25d' target=\"_blank\">\n",
    "<img alt='Created in deepnote.com' style='display:inline;max-height:16px;margin:0px;margin-right:7.5px;' src='data:image/svg+xml;base64,PD94bWwgdmVyc2lvbj0iMS4wIiBlbmNvZGluZz0iVVRGLTgiPz4KPHN2ZyB3aWR0aD0iODBweCIgaGVpZ2h0PSI4MHB4IiB2aWV3Qm94PSIwIDAgODAgODAiIHZlcnNpb249IjEuMSIgeG1sbnM9Imh0dHA6Ly93d3cudzMub3JnLzIwMDAvc3ZnIiB4bWxuczp4bGluaz0iaHR0cDovL3d3dy53My5vcmcvMTk5OS94bGluayI+CiAgICA8IS0tIEdlbmVyYXRvcjogU2tldGNoIDU0LjEgKDc2NDkwKSAtIGh0dHBzOi8vc2tldGNoYXBwLmNvbSAtLT4KICAgIDx0aXRsZT5Hcm91cCAzPC90aXRsZT4KICAgIDxkZXNjPkNyZWF0ZWQgd2l0aCBTa2V0Y2guPC9kZXNjPgogICAgPGcgaWQ9IkxhbmRpbmciIHN0cm9rZT0ibm9uZSIgc3Ryb2tlLXdpZHRoPSIxIiBmaWxsPSJub25lIiBmaWxsLXJ1bGU9ImV2ZW5vZGQiPgogICAgICAgIDxnIGlkPSJBcnRib2FyZCIgdHJhbnNmb3JtPSJ0cmFuc2xhdGUoLTEyMzUuMDAwMDAwLCAtNzkuMDAwMDAwKSI+CiAgICAgICAgICAgIDxnIGlkPSJHcm91cC0zIiB0cmFuc2Zvcm09InRyYW5zbGF0ZSgxMjM1LjAwMDAwMCwgNzkuMDAwMDAwKSI+CiAgICAgICAgICAgICAgICA8cG9seWdvbiBpZD0iUGF0aC0yMCIgZmlsbD0iIzAyNjVCNCIgcG9pbnRzPSIyLjM3NjIzNzYyIDgwIDM4LjA0NzY2NjcgODAgNTcuODIxNzgyMiA3My44MDU3NTkyIDU3LjgyMTc4MjIgMzIuNzU5MjczOSAzOS4xNDAyMjc4IDMxLjY4MzE2ODMiPjwvcG9seWdvbj4KICAgICAgICAgICAgICAgIDxwYXRoIGQ9Ik0zNS4wMDc3MTgsODAgQzQyLjkwNjIwMDcsNzYuNDU0OTM1OCA0Ny41NjQ5MTY3LDcxLjU0MjI2NzEgNDguOTgzODY2LDY1LjI2MTk5MzkgQzUxLjExMjI4OTksNTUuODQxNTg0MiA0MS42NzcxNzk1LDQ5LjIxMjIyODQgMjUuNjIzOTg0Niw0OS4yMTIyMjg0IEMyNS40ODQ5Mjg5LDQ5LjEyNjg0NDggMjkuODI2MTI5Niw0My4yODM4MjQ4IDM4LjY0NzU4NjksMzEuNjgzMTY4MyBMNzIuODcxMjg3MSwzMi41NTQ0MjUgTDY1LjI4MDk3Myw2Ny42NzYzNDIxIEw1MS4xMTIyODk5LDc3LjM3NjE0NCBMMzUuMDA3NzE4LDgwIFoiIGlkPSJQYXRoLTIyIiBmaWxsPSIjMDAyODY4Ij48L3BhdGg+CiAgICAgICAgICAgICAgICA8cGF0aCBkPSJNMCwzNy43MzA0NDA1IEwyNy4xMTQ1MzcsMC4yNTcxMTE0MzYgQzYyLjM3MTUxMjMsLTEuOTkwNzE3MDEgODAsMTAuNTAwMzkyNyA4MCwzNy43MzA0NDA1IEM4MCw2NC45NjA0ODgyIDY0Ljc3NjUwMzgsNzkuMDUwMzQxNCAzNC4zMjk1MTEzLDgwIEM0Ny4wNTUzNDg5LDc3LjU2NzA4MDggNTMuNDE4MjY3Nyw3MC4zMTM2MTAzIDUzLjQxODI2NzcsNTguMjM5NTg4NSBDNTMuNDE4MjY3Nyw0MC4xMjg1NTU3IDM2LjMwMzk1NDQsMzcuNzMwNDQwNSAyNS4yMjc0MTcsMzcuNzMwNDQwNSBDMTcuODQzMDU4NiwzNy43MzA0NDA1IDkuNDMzOTE5NjYsMzcuNzMwNDQwNSAwLDM3LjczMDQ0MDUgWiIgaWQ9IlBhdGgtMTkiIGZpbGw9IiMzNzkzRUYiPjwvcGF0aD4KICAgICAgICAgICAgPC9nPgogICAgICAgIDwvZz4KICAgIDwvZz4KPC9zdmc+' > </img>\n",
    "Created in <span style='font-weight:600;margin-left:4px;'>Deepnote</span></a>"
   ]
  }
 ],
 "metadata": {
  "colab": {
   "name": "Kelompok5_ProjectDE.ipynb",
   "provenance": []
  },
  "deepnote": {
   "is_reactive": false
  },
  "deepnote_execution_queue": [],
  "deepnote_notebook_id": "696cde36-f9ff-464d-aad2-67a3fa9c156a",
  "kernelspec": {
   "display_name": "",
   "name": ""
  },
  "language_info": {
   "name": ""
  }
 },
 "nbformat": 4,
 "nbformat_minor": 4
}
